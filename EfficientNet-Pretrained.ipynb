{
 "cells": [
  {
   "cell_type": "code",
   "execution_count": null,
   "metadata": {
    "colab": {
     "base_uri": "https://localhost:8080/"
    },
    "executionInfo": {
     "elapsed": 15653,
     "status": "ok",
     "timestamp": 1631545415208,
     "user": {
      "displayName": "Fabian Wolf",
      "photoUrl": "https://lh3.googleusercontent.com/a/default-user=s64",
      "userId": "09467462183684170769"
     },
     "user_tz": -120
    },
    "id": "ckl7AGWJVIIQ",
    "outputId": "98784f02-a6d4-4efe-d860-6eb664aa3809"
   },
   "outputs": [],
   "source": [
    "from google.colab import drive\n",
    "from google.colab import files \n",
    "\n",
    "\n",
    "drive.mount(\"/content/gdrive\")\n",
    "print(os.getcwd())\n",
    "os.chdir(\"/content/gdrive/My Drive/AML2021\")\n",
    "print(os.getcwd())"
   ]
  },
  {
   "cell_type": "code",
   "execution_count": 1,
   "metadata": {
    "id": "bx-RnsY-zwe1"
   },
   "outputs": [],
   "source": [
    "import matplotlib.pyplot as plt\n",
    "import numpy as np\n",
    "import time\n",
    "import os\n",
    "\n",
    "import tensorflow as tf\n",
    "\n",
    "from tensorflow.keras import backend, optimizers, models, applications, metrics\n",
    "from tensorflow.keras.layers import GlobalAveragePooling2D, Dense, Input\n",
    "from tensorflow.keras.callbacks import ModelCheckpoint, ReduceLROnPlateau, EarlyStopping, CSVLogger, TensorBoard\n",
    "import tensorflow.keras.utils as utils"
   ]
  },
  {
   "cell_type": "code",
   "execution_count": 2,
   "metadata": {},
   "outputs": [
    {
     "data": {
      "text/plain": [
       "[PhysicalDevice(name='/physical_device:GPU:0', device_type='GPU')]"
      ]
     },
     "execution_count": 2,
     "metadata": {},
     "output_type": "execute_result"
    }
   ],
   "source": [
    "tf.config.list_physical_devices('GPU') "
   ]
  },
  {
   "cell_type": "code",
   "execution_count": 3,
   "metadata": {
    "colab": {
     "base_uri": "https://localhost:8080/"
    },
    "executionInfo": {
     "elapsed": 85508,
     "status": "ok",
     "timestamp": 1631545503534,
     "user": {
      "displayName": "Fabian Wolf",
      "photoUrl": "https://lh3.googleusercontent.com/a/default-user=s64",
      "userId": "09467462183684170769"
     },
     "user_tz": -120
    },
    "id": "X1NJt03q4v2r",
    "outputId": "9d089700-31bb-43e3-e4f0-d19bbfe7b99b"
   },
   "outputs": [
    {
     "name": "stdout",
     "output_type": "stream",
     "text": [
      "(16324, 299, 299, 3) (16324, 2)\n"
     ]
    }
   ],
   "source": [
    "x_train = np.load(\"x_train.npy\")\n",
    "y_train = np.load(\"y_train.npy\")\n",
    "\n",
    "print(x_train.shape, y_train.shape)"
   ]
  },
  {
   "cell_type": "code",
   "execution_count": 4,
   "metadata": {
    "colab": {
     "base_uri": "https://localhost:8080/",
     "height": 784
    },
    "executionInfo": {
     "elapsed": 110051,
     "status": "error",
     "timestamp": 1631545613581,
     "user": {
      "displayName": "Fabian Wolf",
      "photoUrl": "https://lh3.googleusercontent.com/a/default-user=s64",
      "userId": "09467462183684170769"
     },
     "user_tz": -120
    },
    "id": "-Y81Fa8KeSTH",
    "outputId": "c77ebe8b-a712-4f2a-ebdd-1f91d9faacb6"
   },
   "outputs": [
    {
     "name": "stdout",
     "output_type": "stream",
     "text": [
      "Downloading data from https://storage.googleapis.com/keras-applications/efficientnetb3_notop.h5\n",
      "43941888/43941136 [==============================] - 6s 0us/step\n",
      "Epoch 1/120\n",
      "817/817 [==============================] - 544s 651ms/step - loss: 0.5585 - auroc: 0.8246 - accuracy: 0.7422 - precision: 0.7422 - recall: 0.7422 - val_loss: 0.2961 - val_auroc: 0.9485 - val_accuracy: 0.8802 - val_precision: 0.8802 - val_recall: 0.8802\n",
      "\n",
      "Epoch 00001: saving model to models/EfficientNet-21-09-2021_16-53-59\\latest-EfficientNet-21-09-2021_16-53-59.hdf5\n",
      "\n",
      "Epoch 00001: val_auroc improved from inf to 0.94850, saving model to models/EfficientNet-21-09-2021_16-53-59\\best-EfficientNet-21-09-2021_16-53-59.hdf5\n",
      "Epoch 2/120\n",
      "817/817 [==============================] - 525s 643ms/step - loss: 0.1898 - auroc: 0.9775 - accuracy: 0.9246 - precision: 0.9246 - recall: 0.9246 - val_loss: 0.1360 - val_auroc: 0.9879 - val_accuracy: 0.9476 - val_precision: 0.9476 - val_recall: 0.9476\n",
      "\n",
      "Epoch 00002: saving model to models/EfficientNet-21-09-2021_16-53-59\\latest-EfficientNet-21-09-2021_16-53-59.hdf5\n",
      "\n",
      "Epoch 00002: val_auroc did not improve from 0.94850\n",
      "Epoch 3/120\n",
      "817/817 [==============================] - 526s 644ms/step - loss: 0.0889 - auroc: 0.9946 - accuracy: 0.9663 - precision: 0.9663 - recall: 0.9663 - val_loss: 0.1057 - val_auroc: 0.9920 - val_accuracy: 0.9660 - val_precision: 0.9660 - val_recall: 0.9660\n",
      "\n",
      "Epoch 00003: saving model to models/EfficientNet-21-09-2021_16-53-59\\latest-EfficientNet-21-09-2021_16-53-59.hdf5\n",
      "\n",
      "Epoch 00003: val_auroc did not improve from 0.94850\n",
      "Epoch 4/120\n",
      "817/817 [==============================] - 528s 647ms/step - loss: 0.0826 - auroc: 0.9951 - accuracy: 0.9699 - precision: 0.9699 - recall: 0.9699 - val_loss: 0.1116 - val_auroc: 0.9907 - val_accuracy: 0.9712 - val_precision: 0.9712 - val_recall: 0.9712\n",
      "\n",
      "Epoch 00004: saving model to models/EfficientNet-21-09-2021_16-53-59\\latest-EfficientNet-21-09-2021_16-53-59.hdf5\n",
      "\n",
      "Epoch 00004: val_auroc did not improve from 0.94850\n",
      "Epoch 5/120\n",
      "817/817 [==============================] - 528s 646ms/step - loss: 0.1028 - auroc: 0.9913 - accuracy: 0.9646 - precision: 0.9646 - recall: 0.9646 - val_loss: 0.0950 - val_auroc: 0.9952 - val_accuracy: 0.9620 - val_precision: 0.9620 - val_recall: 0.9620\n",
      "\n",
      "Epoch 00005: saving model to models/EfficientNet-21-09-2021_16-53-59\\latest-EfficientNet-21-09-2021_16-53-59.hdf5\n",
      "\n",
      "Epoch 00005: val_auroc did not improve from 0.94850\n",
      "Epoch 6/120\n",
      "817/817 [==============================] - 529s 648ms/step - loss: 0.0358 - auroc: 0.9990 - accuracy: 0.9862 - precision: 0.9862 - recall: 0.9862 - val_loss: 0.0441 - val_auroc: 0.9982 - val_accuracy: 0.9841 - val_precision: 0.9841 - val_recall: 0.9841\n",
      "\n",
      "Epoch 00006: saving model to models/EfficientNet-21-09-2021_16-53-59\\latest-EfficientNet-21-09-2021_16-53-59.hdf5\n",
      "\n",
      "Epoch 00006: val_auroc did not improve from 0.94850\n",
      "Epoch 7/120\n",
      "817/817 [==============================] - 528s 646ms/step - loss: 0.0199 - auroc: 0.9993 - accuracy: 0.9935 - precision: 0.9935 - recall: 0.9935 - val_loss: 0.0519 - val_auroc: 0.9974 - val_accuracy: 0.9835 - val_precision: 0.9835 - val_recall: 0.9835\n",
      "\n",
      "Epoch 00007: saving model to models/EfficientNet-21-09-2021_16-53-59\\latest-EfficientNet-21-09-2021_16-53-59.hdf5\n",
      "\n",
      "Epoch 00007: val_auroc did not improve from 0.94850\n",
      "Epoch 8/120\n",
      "817/817 [==============================] - 528s 647ms/step - loss: 0.0144 - auroc: 0.9998 - accuracy: 0.9953 - precision: 0.9953 - recall: 0.9953 - val_loss: 0.0453 - val_auroc: 0.9983 - val_accuracy: 0.9859 - val_precision: 0.9859 - val_recall: 0.9859\n",
      "\n",
      "Epoch 00008: saving model to models/EfficientNet-21-09-2021_16-53-59\\latest-EfficientNet-21-09-2021_16-53-59.hdf5\n",
      "\n",
      "Epoch 00008: val_auroc did not improve from 0.94850\n",
      "Epoch 9/120\n",
      "817/817 [==============================] - 528s 646ms/step - loss: 0.0107 - auroc: 0.9998 - accuracy: 0.9966 - precision: 0.9966 - recall: 0.9966 - val_loss: 0.0773 - val_auroc: 0.9966 - val_accuracy: 0.9660 - val_precision: 0.9660 - val_recall: 0.9660\n",
      "\n",
      "Epoch 00009: saving model to models/EfficientNet-21-09-2021_16-53-59\\latest-EfficientNet-21-09-2021_16-53-59.hdf5\n",
      "\n",
      "Epoch 00009: val_auroc did not improve from 0.94850\n",
      "Epoch 10/120\n",
      "817/817 [==============================] - 528s 646ms/step - loss: 0.0081 - auroc: 1.0000 - accuracy: 0.9971 - precision: 0.9971 - recall: 0.9971 - val_loss: 0.0887 - val_auroc: 0.9935 - val_accuracy: 0.9737 - val_precision: 0.9737 - val_recall: 0.9737\n",
      "\n",
      "Epoch 00010: saving model to models/EfficientNet-21-09-2021_16-53-59\\latest-EfficientNet-21-09-2021_16-53-59.hdf5\n",
      "\n",
      "Epoch 00010: val_auroc did not improve from 0.94850\n",
      "Epoch 11/120\n",
      "817/817 [==============================] - 529s 647ms/step - loss: 0.0123 - auroc: 0.9999 - accuracy: 0.9950 - precision: 0.9950 - recall: 0.9950 - val_loss: 0.0318 - val_auroc: 0.9979 - val_accuracy: 0.9908 - val_precision: 0.9908 - val_recall: 0.9908\n",
      "\n",
      "Epoch 00011: saving model to models/EfficientNet-21-09-2021_16-53-59\\latest-EfficientNet-21-09-2021_16-53-59.hdf5\n",
      "\n",
      "Epoch 00011: val_auroc did not improve from 0.94850\n",
      "\n",
      "Epoch 00011: ReduceLROnPlateau reducing learning rate to 0.010000000149011612.\n",
      "Epoch 12/120\n",
      "817/817 [==============================] - 529s 648ms/step - loss: 0.0112 - auroc: 0.9996 - accuracy: 0.9965 - precision: 0.9965 - recall: 0.9965 - val_loss: 0.0173 - val_auroc: 0.9990 - val_accuracy: 0.9942 - val_precision: 0.9942 - val_recall: 0.9942\n",
      "\n",
      "Epoch 00012: saving model to models/EfficientNet-21-09-2021_16-53-59\\latest-EfficientNet-21-09-2021_16-53-59.hdf5\n",
      "\n",
      "Epoch 00012: val_auroc did not improve from 0.94850\n",
      "Epoch 13/120\n",
      "817/817 [==============================] - 529s 647ms/step - loss: 0.0020 - auroc: 1.0000 - accuracy: 0.9991 - precision: 0.9991 - recall: 0.9991 - val_loss: 0.0157 - val_auroc: 0.9990 - val_accuracy: 0.9948 - val_precision: 0.9948 - val_recall: 0.9948\n",
      "\n",
      "Epoch 00013: saving model to models/EfficientNet-21-09-2021_16-53-59\\latest-EfficientNet-21-09-2021_16-53-59.hdf5\n",
      "\n",
      "Epoch 00013: val_auroc did not improve from 0.94850\n",
      "Epoch 14/120\n",
      "817/817 [==============================] - 529s 647ms/step - loss: 0.0032 - auroc: 1.0000 - accuracy: 0.9987 - precision: 0.9987 - recall: 0.9987 - val_loss: 0.0168 - val_auroc: 0.9993 - val_accuracy: 0.9948 - val_precision: 0.9948 - val_recall: 0.9948\n",
      "\n",
      "Epoch 00014: saving model to models/EfficientNet-21-09-2021_16-53-59\\latest-EfficientNet-21-09-2021_16-53-59.hdf5\n",
      "\n",
      "Epoch 00014: val_auroc did not improve from 0.94850\n",
      "Epoch 15/120\n",
      "817/817 [==============================] - 529s 647ms/step - loss: 0.0016 - auroc: 1.0000 - accuracy: 0.9995 - precision: 0.9995 - recall: 0.9995 - val_loss: 0.0180 - val_auroc: 0.9993 - val_accuracy: 0.9954 - val_precision: 0.9954 - val_recall: 0.9954\n",
      "\n",
      "Epoch 00015: saving model to models/EfficientNet-21-09-2021_16-53-59\\latest-EfficientNet-21-09-2021_16-53-59.hdf5\n",
      "\n",
      "Epoch 00015: val_auroc did not improve from 0.94850\n",
      "Epoch 16/120\n",
      "817/817 [==============================] - 527s 645ms/step - loss: 0.0018 - auroc: 1.0000 - accuracy: 0.9994 - precision: 0.9994 - recall: 0.9994 - val_loss: 0.0157 - val_auroc: 0.9993 - val_accuracy: 0.9951 - val_precision: 0.9951 - val_recall: 0.9951\n",
      "\n",
      "Epoch 00016: saving model to models/EfficientNet-21-09-2021_16-53-59\\latest-EfficientNet-21-09-2021_16-53-59.hdf5\n",
      "\n",
      "Epoch 00016: val_auroc did not improve from 0.94850\n"
     ]
    },
    {
     "data": {
      "text/plain": [
       "<tensorflow.python.keras.callbacks.History at 0x1b4db02e040>"
      ]
     },
     "execution_count": 4,
     "metadata": {},
     "output_type": "execute_result"
    }
   ],
   "source": [
    "# Adapt Constants\n",
    "date = time.strftime(\"%d-%m-%Y_%H-%M-%S\")\n",
    "MODEL_NAME = f\"EfficientNet-{date}\"\n",
    "os.makedirs(f'models/{MODEL_NAME}', exist_ok = True) \n",
    "INPUT_SHAPE = (299, 299, 3)\n",
    "NUM_CLASSES = 2\n",
    "INITIAL_EPOCH = 0\n",
    "NUM_EPOCHS = 120\n",
    "OPTIMIZER = optimizers.SGD(learning_rate=0.1, momentum=0.9, nesterov=False)\n",
    "BATCH_SIZE = 16\n",
    "\n",
    "LRS = ReduceLROnPlateau(monitor='val_auroc', factor=0.1, patience=10, verbose=1, mode='auto', min_delta=0.0001)\n",
    "ES = EarlyStopping(monitor='val_auroc', min_delta=0.0001, patience=15, verbose=0, mode='auto', baseline=None, restore_best_weights=False)\n",
    "\n",
    "\n",
    "MC = ModelCheckpoint(f'models/{MODEL_NAME}/latest-{MODEL_NAME}.hdf5', monitor='val_auroc', verbose=1, save_best_only=False, save_weights_only=False, mode='auto', save_freq=\"epoch\")\n",
    "MC_BEST = ModelCheckpoint(f'models/{MODEL_NAME}/best-{MODEL_NAME}.hdf5', monitor='val_auroc', verbose=1, save_best_only=True, save_weights_only=False, mode='auto', save_freq=\"epoch\")\n",
    "LOG = CSVLogger(f'models/{MODEL_NAME}/{MODEL_NAME}.log')\n",
    "TB = TensorBoard(log_dir=f'models/{MODEL_NAME}/logs')\n",
    "\n",
    "METRICS = [metrics.AUC(name='auroc', curve='ROC'),\n",
    "           metrics.CategoricalAccuracy(name='accuracy'),\n",
    "           metrics.Precision(name='precision'),\n",
    "           metrics.Recall(name='recall')\n",
    "           ]\n",
    "\n",
    "# Load data\n",
    "assert(backend.image_data_format()=='channels_last')\n",
    "\n",
    "# Model: preprocess, base model, top layer/classifier\n",
    "i = Input(shape=INPUT_SHAPE)\n",
    "x = applications.efficientnet.preprocess_input(i)\n",
    "\n",
    "\n",
    "base_model = applications.efficientnet.EfficientNetB3(include_top=False, weights=\"imagenet\", input_shape=INPUT_SHAPE)\n",
    "x = base_model(x)\n",
    "\n",
    "x = GlobalAveragePooling2D(name='avg_pool')(x)\n",
    "o = Dense(NUM_CLASSES, activation='softmax', name=f'fc{NUM_CLASSES}')(x)\n",
    "\n",
    "model = models.Model(inputs=i, outputs=o)\n",
    "\n",
    "# Train Model\n",
    "if INITIAL_EPOCH != 0:\n",
    "\tmodel = models.load_model(f'models/{MODEL_NAME}/latest-{MODEL_NAME}.hdf5', compile=True)\n",
    "else:\n",
    "  model.compile(optimizer=OPTIMIZER, loss='categorical_crossentropy', metrics=METRICS)\n",
    "\n",
    "model.fit(x=x_train, y=y_train, batch_size=BATCH_SIZE, validation_split = 0.2, callbacks = [MC, MC_BEST, LRS, ES, LOG, TB], epochs = NUM_EPOCHS, initial_epoch = INITIAL_EPOCH)"
   ]
  },
  {
   "cell_type": "code",
   "execution_count": 5,
   "metadata": {},
   "outputs": [
    {
     "name": "stdout",
     "output_type": "stream",
     "text": [
      "173/173 [==============================] - 23s 123ms/step - loss: 0.0327 - auroc: 0.9987 - accuracy: 0.9910 - precision: 0.9910 - recall: 0.9910\n",
      "wrote \"EfficientNet-21-09-2021_16-53-59 test_loss: 0.03267870843410492, test_auroc: 0.9986883997917175, test_acc: 0.9909518361091614, test_prec: 0.9909518361091614, test_rec: 0.9909518361091614, test_f1: 0.9909518361091614\n",
      "\" to results.txt \n"
     ]
    }
   ],
   "source": [
    "# Eval Model\n",
    "x_test = np.load(\"x_test.npy\")\n",
    "y_test = np.load(\"y_test.npy\")\n",
    "\n",
    "model = models.load_model(f'models/{MODEL_NAME}/latest-{MODEL_NAME}.hdf5', compile=True)\n",
    "out = model.evaluate(x=x_test, y=y_test, batch_size=BATCH_SIZE, verbose=1)\n",
    "\n",
    "# Save Results\n",
    "with open(\"results.txt\",\"a+\") as f:\n",
    "  f.write(f\"{MODEL_NAME} test_loss: {out[0]}, test_auroc: {out[1]}, test_acc: {out[2]}, test_prec: {out[3]}, test_rec: {out[4]}, test_f1: {2* ((out[3]*out[4]) / (out[3]+out[4]))}\\n\")\n",
    "print(f\"wrote \\\"{MODEL_NAME} test_loss: {out[0]}, test_auroc: {out[1]}, test_acc: {out[2]}, test_prec: {out[3]}, test_rec: {out[4]}, test_f1: {2* ((out[3]*out[4]) / (out[3]+out[4]))}\\n\\\" to results.txt \")"
   ]
  },
  {
   "cell_type": "code",
   "execution_count": null,
   "metadata": {
    "id": "5likFaHpF8iY"
   },
   "outputs": [],
   "source": [
    "#Plot ROC\n",
    "from sklearn.metrics import roc_curve, auc\n",
    "import matplotlib.pyplot as plt\n",
    "y_pred = np.argmax(model.predict(x_test), axis=1)\n",
    "y_true = np.argmax(y_test, axis=1)\n",
    "fpr, tpr, thresholds = roc_curve(y_true, y_pred)\n",
    "auc = auc(fpr, tpr)\n",
    "\n",
    "plt.figure()\n",
    "plt.plot([0, 1], [0, 1], 'k--')\n",
    "plt.plot(fpr, tpr, label='Keras-EfficientNetB3 (area = {:.3f})'.format(auc))\n",
    "#plt.xlabel('False positive rate')\n",
    "#plt.ylabel('True positive rate')\n",
    "plt.title('ROC curve')\n",
    "plt.legend(loc='best')\n",
    "plt.show()"
   ]
  },
  {
   "cell_type": "code",
   "execution_count": null,
   "metadata": {},
   "outputs": [],
   "source": []
  }
 ],
 "metadata": {
  "accelerator": "GPU",
  "colab": {
   "collapsed_sections": [],
   "name": "DenseNet-Pretrained.ipynb",
   "provenance": []
  },
  "kernelspec": {
   "display_name": "Python 3",
   "language": "python",
   "name": "python3"
  },
  "language_info": {
   "codemirror_mode": {
    "name": "ipython",
    "version": 3
   },
   "file_extension": ".py",
   "mimetype": "text/x-python",
   "name": "python",
   "nbconvert_exporter": "python",
   "pygments_lexer": "ipython3",
   "version": "3.8.8"
  }
 },
 "nbformat": 4,
 "nbformat_minor": 4
}

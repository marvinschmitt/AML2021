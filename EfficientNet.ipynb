{
 "cells": [
  {
   "cell_type": "code",
   "execution_count": null,
   "metadata": {
    "colab": {
     "base_uri": "https://localhost:8080/"
    },
    "executionInfo": {
     "elapsed": 15653,
     "status": "ok",
     "timestamp": 1631545415208,
     "user": {
      "displayName": "Fabian Wolf",
      "photoUrl": "https://lh3.googleusercontent.com/a/default-user=s64",
      "userId": "09467462183684170769"
     },
     "user_tz": -120
    },
    "id": "ckl7AGWJVIIQ",
    "outputId": "98784f02-a6d4-4efe-d860-6eb664aa3809"
   },
   "outputs": [],
   "source": [
    "from google.colab import drive\n",
    "from google.colab import files \n",
    "\n",
    "\n",
    "drive.mount(\"/content/gdrive\")\n",
    "print(os.getcwd())\n",
    "os.chdir(\"/content/gdrive/My Drive/AML2021\")\n",
    "print(os.getcwd())"
   ]
  },
  {
   "cell_type": "code",
   "execution_count": 1,
   "metadata": {
    "id": "bx-RnsY-zwe1"
   },
   "outputs": [],
   "source": [
    "import matplotlib.pyplot as plt\n",
    "import numpy as np\n",
    "import time\n",
    "import os\n",
    "\n",
    "import tensorflow as tf\n",
    "\n",
    "from tensorflow.keras import backend, optimizers, models, applications, metrics\n",
    "from tensorflow.keras.layers import GlobalAveragePooling2D, Dense, Input\n",
    "from tensorflow.keras.callbacks import ModelCheckpoint, ReduceLROnPlateau, EarlyStopping, CSVLogger, TensorBoard\n",
    "import tensorflow.keras.utils as utils"
   ]
  },
  {
   "cell_type": "code",
   "execution_count": 2,
   "metadata": {},
   "outputs": [
    {
     "data": {
      "text/plain": [
       "[PhysicalDevice(name='/physical_device:GPU:0', device_type='GPU')]"
      ]
     },
     "execution_count": 2,
     "metadata": {},
     "output_type": "execute_result"
    }
   ],
   "source": [
    "tf.config.list_physical_devices('GPU') "
   ]
  },
  {
   "cell_type": "code",
   "execution_count": 3,
   "metadata": {
    "colab": {
     "base_uri": "https://localhost:8080/"
    },
    "executionInfo": {
     "elapsed": 85508,
     "status": "ok",
     "timestamp": 1631545503534,
     "user": {
      "displayName": "Fabian Wolf",
      "photoUrl": "https://lh3.googleusercontent.com/a/default-user=s64",
      "userId": "09467462183684170769"
     },
     "user_tz": -120
    },
    "id": "X1NJt03q4v2r",
    "outputId": "9d089700-31bb-43e3-e4f0-d19bbfe7b99b"
   },
   "outputs": [
    {
     "name": "stdout",
     "output_type": "stream",
     "text": [
      "(16324, 299, 299, 3) (16324, 2)\n"
     ]
    }
   ],
   "source": [
    "x_train = np.load(\"x_train.npy\")\n",
    "y_train = np.load(\"y_train.npy\")\n",
    "\n",
    "print(x_train.shape, y_train.shape)"
   ]
  },
  {
   "cell_type": "code",
   "execution_count": 4,
   "metadata": {
    "colab": {
     "base_uri": "https://localhost:8080/",
     "height": 784
    },
    "executionInfo": {
     "elapsed": 110051,
     "status": "error",
     "timestamp": 1631545613581,
     "user": {
      "displayName": "Fabian Wolf",
      "photoUrl": "https://lh3.googleusercontent.com/a/default-user=s64",
      "userId": "09467462183684170769"
     },
     "user_tz": -120
    },
    "id": "-Y81Fa8KeSTH",
    "outputId": "c77ebe8b-a712-4f2a-ebdd-1f91d9faacb6"
   },
   "outputs": [
    {
     "name": "stdout",
     "output_type": "stream",
     "text": [
      "Epoch 1/120\n",
      "817/817 [==============================] - 542s 644ms/step - loss: 1.0226 - auroc: 0.5955 - accuracy: 0.5802 - precision: 0.5802 - recall: 0.5802 - val_loss: 0.6706 - val_auroc: 0.6417 - val_accuracy: 0.5985 - val_precision: 0.5985 - val_recall: 0.5985\n",
      "\n",
      "Epoch 00001: saving model to models/EfficientNet-NoPretraining-21-09-2021_19-23-25\\latest-EfficientNet-NoPretraining-21-09-2021_19-23-25.hdf5\n",
      "\n",
      "Epoch 00001: val_auroc improved from inf to 0.64169, saving model to models/EfficientNet-NoPretraining-21-09-2021_19-23-25\\best-EfficientNet-NoPretraining-21-09-2021_19-23-25.hdf5\n",
      "Epoch 2/120\n",
      "817/817 [==============================] - 521s 637ms/step - loss: 0.5820 - auroc: 0.7633 - accuracy: 0.6967 - precision: 0.6967 - recall: 0.6967 - val_loss: 0.4579 - val_auroc: 0.8795 - val_accuracy: 0.7960 - val_precision: 0.7960 - val_recall: 0.7960\n",
      "\n",
      "Epoch 00002: saving model to models/EfficientNet-NoPretraining-21-09-2021_19-23-25\\latest-EfficientNet-NoPretraining-21-09-2021_19-23-25.hdf5\n",
      "\n",
      "Epoch 00002: val_auroc did not improve from 0.64169\n",
      "Epoch 3/120\n",
      "817/817 [==============================] - 525s 643ms/step - loss: 0.4228 - auroc: 0.8895 - accuracy: 0.8174 - precision: 0.8174 - recall: 0.8174 - val_loss: 0.3179 - val_auroc: 0.9377 - val_accuracy: 0.8613 - val_precision: 0.8613 - val_recall: 0.8613\n",
      "\n",
      "Epoch 00003: saving model to models/EfficientNet-NoPretraining-21-09-2021_19-23-25\\latest-EfficientNet-NoPretraining-21-09-2021_19-23-25.hdf5\n",
      "\n",
      "Epoch 00003: val_auroc did not improve from 0.64169\n",
      "Epoch 4/120\n",
      "817/817 [==============================] - 523s 640ms/step - loss: 0.3628 - auroc: 0.9192 - accuracy: 0.8420 - precision: 0.8420 - recall: 0.8420 - val_loss: 0.7749 - val_auroc: 0.7143 - val_accuracy: 0.6294 - val_precision: 0.6294 - val_recall: 0.6294\n",
      "\n",
      "Epoch 00004: saving model to models/EfficientNet-NoPretraining-21-09-2021_19-23-25\\latest-EfficientNet-NoPretraining-21-09-2021_19-23-25.hdf5\n",
      "\n",
      "Epoch 00004: val_auroc did not improve from 0.64169\n",
      "Epoch 5/120\n",
      "817/817 [==============================] - 522s 640ms/step - loss: 0.3009 - auroc: 0.9451 - accuracy: 0.8777 - precision: 0.8777 - recall: 0.8777 - val_loss: 0.2323 - val_auroc: 0.9672 - val_accuracy: 0.9127 - val_precision: 0.9127 - val_recall: 0.9127\n",
      "\n",
      "Epoch 00005: saving model to models/EfficientNet-NoPretraining-21-09-2021_19-23-25\\latest-EfficientNet-NoPretraining-21-09-2021_19-23-25.hdf5\n",
      "\n",
      "Epoch 00005: val_auroc did not improve from 0.64169\n",
      "Epoch 6/120\n",
      "817/817 [==============================] - 524s 641ms/step - loss: 0.2530 - auroc: 0.9613 - accuracy: 0.9016 - precision: 0.9016 - recall: 0.9016 - val_loss: 0.2506 - val_auroc: 0.9621 - val_accuracy: 0.9005 - val_precision: 0.9005 - val_recall: 0.9005\n",
      "\n",
      "Epoch 00006: saving model to models/EfficientNet-NoPretraining-21-09-2021_19-23-25\\latest-EfficientNet-NoPretraining-21-09-2021_19-23-25.hdf5\n",
      "\n",
      "Epoch 00006: val_auroc did not improve from 0.64169\n",
      "Epoch 7/120\n",
      "817/817 [==============================] - 522s 639ms/step - loss: 0.2055 - auroc: 0.9742 - accuracy: 0.9185 - precision: 0.9185 - recall: 0.9185 - val_loss: 0.2802 - val_auroc: 0.9549 - val_accuracy: 0.8827 - val_precision: 0.8827 - val_recall: 0.8827\n",
      "\n",
      "Epoch 00007: saving model to models/EfficientNet-NoPretraining-21-09-2021_19-23-25\\latest-EfficientNet-NoPretraining-21-09-2021_19-23-25.hdf5\n",
      "\n",
      "Epoch 00007: val_auroc did not improve from 0.64169\n",
      "Epoch 8/120\n",
      "817/817 [==============================] - 523s 640ms/step - loss: 0.1753 - auroc: 0.9808 - accuracy: 0.9297 - precision: 0.9297 - recall: 0.9297 - val_loss: 0.2402 - val_auroc: 0.9681 - val_accuracy: 0.9081 - val_precision: 0.9081 - val_recall: 0.9081\n",
      "\n",
      "Epoch 00008: saving model to models/EfficientNet-NoPretraining-21-09-2021_19-23-25\\latest-EfficientNet-NoPretraining-21-09-2021_19-23-25.hdf5\n",
      "\n",
      "Epoch 00008: val_auroc did not improve from 0.64169\n",
      "Epoch 9/120\n",
      "817/817 [==============================] - 523s 640ms/step - loss: 0.1502 - auroc: 0.9860 - accuracy: 0.9471 - precision: 0.9471 - recall: 0.9471 - val_loss: 0.1514 - val_auroc: 0.9877 - val_accuracy: 0.9485 - val_precision: 0.9485 - val_recall: 0.9485\n",
      "\n",
      "Epoch 00009: saving model to models/EfficientNet-NoPretraining-21-09-2021_19-23-25\\latest-EfficientNet-NoPretraining-21-09-2021_19-23-25.hdf5\n",
      "\n",
      "Epoch 00009: val_auroc did not improve from 0.64169\n",
      "Epoch 10/120\n",
      "817/817 [==============================] - 523s 640ms/step - loss: 0.1266 - auroc: 0.9896 - accuracy: 0.9557 - precision: 0.9557 - recall: 0.9557 - val_loss: 0.8836 - val_auroc: 0.8103 - val_accuracy: 0.7185 - val_precision: 0.7185 - val_recall: 0.7185\n",
      "\n",
      "Epoch 00010: saving model to models/EfficientNet-NoPretraining-21-09-2021_19-23-25\\latest-EfficientNet-NoPretraining-21-09-2021_19-23-25.hdf5\n",
      "\n",
      "Epoch 00010: val_auroc did not improve from 0.64169\n",
      "Epoch 11/120\n",
      "817/817 [==============================] - 524s 641ms/step - loss: 0.1171 - auroc: 0.9909 - accuracy: 0.9574 - precision: 0.9574 - recall: 0.9574 - val_loss: 0.1267 - val_auroc: 0.9902 - val_accuracy: 0.9583 - val_precision: 0.9583 - val_recall: 0.9583\n",
      "\n",
      "Epoch 00011: saving model to models/EfficientNet-NoPretraining-21-09-2021_19-23-25\\latest-EfficientNet-NoPretraining-21-09-2021_19-23-25.hdf5\n",
      "\n",
      "Epoch 00011: val_auroc did not improve from 0.64169\n",
      "\n",
      "Epoch 00011: ReduceLROnPlateau reducing learning rate to 0.010000000149011612.\n",
      "Epoch 12/120\n",
      "817/817 [==============================] - 522s 639ms/step - loss: 0.0617 - auroc: 0.9968 - accuracy: 0.9802 - precision: 0.9802 - recall: 0.9802 - val_loss: 0.0541 - val_auroc: 0.9976 - val_accuracy: 0.9810 - val_precision: 0.9810 - val_recall: 0.9810\n",
      "\n",
      "Epoch 00012: saving model to models/EfficientNet-NoPretraining-21-09-2021_19-23-25\\latest-EfficientNet-NoPretraining-21-09-2021_19-23-25.hdf5\n",
      "\n",
      "Epoch 00012: val_auroc did not improve from 0.64169\n",
      "Epoch 13/120\n",
      "817/817 [==============================] - 523s 640ms/step - loss: 0.0382 - auroc: 0.9988 - accuracy: 0.9871 - precision: 0.9871 - recall: 0.9871 - val_loss: 0.0452 - val_auroc: 0.9981 - val_accuracy: 0.9838 - val_precision: 0.9838 - val_recall: 0.9838\n",
      "\n",
      "Epoch 00013: saving model to models/EfficientNet-NoPretraining-21-09-2021_19-23-25\\latest-EfficientNet-NoPretraining-21-09-2021_19-23-25.hdf5\n",
      "\n",
      "Epoch 00013: val_auroc did not improve from 0.64169\n",
      "Epoch 14/120\n",
      "817/817 [==============================] - 535s 655ms/step - loss: 0.0249 - auroc: 0.9993 - accuracy: 0.9919 - precision: 0.9919 - recall: 0.9919 - val_loss: 0.0433 - val_auroc: 0.9983 - val_accuracy: 0.9844 - val_precision: 0.9844 - val_recall: 0.9844\n",
      "\n",
      "Epoch 00014: saving model to models/EfficientNet-NoPretraining-21-09-2021_19-23-25\\latest-EfficientNet-NoPretraining-21-09-2021_19-23-25.hdf5\n",
      "\n",
      "Epoch 00014: val_auroc did not improve from 0.64169\n",
      "Epoch 15/120\n",
      "817/817 [==============================] - 523s 640ms/step - loss: 0.0231 - auroc: 0.9994 - accuracy: 0.9925 - precision: 0.9925 - recall: 0.9925 - val_loss: 0.0445 - val_auroc: 0.9980 - val_accuracy: 0.9853 - val_precision: 0.9853 - val_recall: 0.9853\n",
      "\n",
      "Epoch 00015: saving model to models/EfficientNet-NoPretraining-21-09-2021_19-23-25\\latest-EfficientNet-NoPretraining-21-09-2021_19-23-25.hdf5\n",
      "\n",
      "Epoch 00015: val_auroc did not improve from 0.64169\n",
      "Epoch 16/120\n",
      "817/817 [==============================] - 523s 641ms/step - loss: 0.0170 - auroc: 0.9997 - accuracy: 0.9948 - precision: 0.9948 - recall: 0.9948 - val_loss: 0.0400 - val_auroc: 0.9985 - val_accuracy: 0.9859 - val_precision: 0.9859 - val_recall: 0.9859\n",
      "\n",
      "Epoch 00016: saving model to models/EfficientNet-NoPretraining-21-09-2021_19-23-25\\latest-EfficientNet-NoPretraining-21-09-2021_19-23-25.hdf5\n",
      "\n",
      "Epoch 00016: val_auroc did not improve from 0.64169\n"
     ]
    },
    {
     "data": {
      "text/plain": [
       "<tensorflow.python.keras.callbacks.History at 0x1930c0fe070>"
      ]
     },
     "execution_count": 4,
     "metadata": {},
     "output_type": "execute_result"
    }
   ],
   "source": [
    "# Adapt Constants\n",
    "date = time.strftime(\"%d-%m-%Y_%H-%M-%S\")\n",
    "MODEL_NAME = f\"EfficientNet-NoPretraining-{date}\"\n",
    "os.makedirs(f'models/{MODEL_NAME}', exist_ok = True) \n",
    "INPUT_SHAPE = (299, 299, 3)\n",
    "NUM_CLASSES = 2\n",
    "INITIAL_EPOCH = 0\n",
    "NUM_EPOCHS = 120\n",
    "OPTIMIZER = optimizers.SGD(learning_rate=0.1, momentum=0.9, nesterov=False)\n",
    "BATCH_SIZE = 16\n",
    "\n",
    "LRS = ReduceLROnPlateau(monitor='val_auroc', factor=0.1, patience=10, verbose=1, mode='auto', min_delta=0.0001)\n",
    "ES = EarlyStopping(monitor='val_auroc', min_delta=0.0001, patience=15, verbose=0, mode='auto', baseline=None, restore_best_weights=False)\n",
    "\n",
    "\n",
    "MC = ModelCheckpoint(f'models/{MODEL_NAME}/latest-{MODEL_NAME}.hdf5', monitor='val_auroc', verbose=1, save_best_only=False, save_weights_only=False, mode='auto', save_freq=\"epoch\")\n",
    "MC_BEST = ModelCheckpoint(f'models/{MODEL_NAME}/best-{MODEL_NAME}.hdf5', monitor='val_auroc', verbose=1, save_best_only=True, save_weights_only=False, mode='auto', save_freq=\"epoch\")\n",
    "LOG = CSVLogger(f'models/{MODEL_NAME}/{MODEL_NAME}.log')\n",
    "TB = TensorBoard(log_dir=f'models/{MODEL_NAME}/logs')\n",
    "\n",
    "METRICS = [metrics.AUC(name='auroc', curve='ROC'),\n",
    "           metrics.CategoricalAccuracy(name='accuracy'),\n",
    "           metrics.Precision(name='precision'),\n",
    "           metrics.Recall(name='recall')\n",
    "           ]\n",
    "\n",
    "# Load data\n",
    "assert(backend.image_data_format()=='channels_last')\n",
    "\n",
    "# Model: preprocess, base model, top layer/classifier\n",
    "i = Input(shape=INPUT_SHAPE)\n",
    "x = applications.efficientnet.preprocess_input(i)\n",
    "\n",
    "\n",
    "base_model = applications.efficientnet.EfficientNetB3(include_top=False, weights=None, input_shape=INPUT_SHAPE)\n",
    "x = base_model(x)\n",
    "\n",
    "x = GlobalAveragePooling2D(name='avg_pool')(x)\n",
    "o = Dense(NUM_CLASSES, activation='softmax', name=f'fc{NUM_CLASSES}')(x)\n",
    "\n",
    "model = models.Model(inputs=i, outputs=o)\n",
    "\n",
    "# Train Model\n",
    "if INITIAL_EPOCH != 0:\n",
    "\tmodel = models.load_model(f'models/{MODEL_NAME}/latest-{MODEL_NAME}.hdf5', compile=True)\n",
    "else:\n",
    "  model.compile(optimizer=OPTIMIZER, loss='categorical_crossentropy', metrics=METRICS)\n",
    "\n",
    "model.fit(x=x_train, y=y_train, batch_size=BATCH_SIZE, validation_split = 0.2, callbacks = [MC, MC_BEST, LRS, ES, LOG, TB], epochs = NUM_EPOCHS, initial_epoch = INITIAL_EPOCH)"
   ]
  },
  {
   "cell_type": "code",
   "execution_count": 5,
   "metadata": {},
   "outputs": [
    {
     "name": "stdout",
     "output_type": "stream",
     "text": [
      "173/173 [==============================] - 23s 123ms/step - loss: 0.0671 - auroc: 0.9960 - accuracy: 0.9815 - precision: 0.9815 - recall: 0.9815\n",
      "wrote \"EfficientNet-NoPretraining-21-09-2021_19-23-25 test_loss: 0.06711085140705109, test_auroc: 0.9959845542907715, test_acc: 0.9815418124198914, test_prec: 0.9815418124198914, test_rec: 0.9815418124198914, test_f1: 0.9815418124198914\n",
      "\" to results.txt \n"
     ]
    }
   ],
   "source": [
    "# Eval Model\n",
    "x_test = np.load(\"x_test.npy\")\n",
    "y_test = np.load(\"y_test.npy\")\n",
    "\n",
    "model = models.load_model(f'models/{MODEL_NAME}/latest-{MODEL_NAME}.hdf5', compile=True)\n",
    "out = model.evaluate(x=x_test, y=y_test, batch_size=BATCH_SIZE, verbose=1)\n",
    "\n",
    "# Save Results\n",
    "with open(\"results.txt\",\"a+\") as f:\n",
    "  f.write(f\"{MODEL_NAME} test_loss: {out[0]}, test_auroc: {out[1]}, test_acc: {out[2]}, test_prec: {out[3]}, test_rec: {out[4]}, test_f1: {2* ((out[3]*out[4]) / (out[3]+out[4]))}\\n\")\n",
    "print(f\"wrote \\\"{MODEL_NAME} test_loss: {out[0]}, test_auroc: {out[1]}, test_acc: {out[2]}, test_prec: {out[3]}, test_rec: {out[4]}, test_f1: {2* ((out[3]*out[4]) / (out[3]+out[4]))}\\n\\\" to results.txt \")"
   ]
  },
  {
   "cell_type": "code",
   "execution_count": 7,
   "metadata": {
    "id": "5likFaHpF8iY"
   },
   "outputs": [
    {
     "data": {
      "image/png": "[encoded data removed]",
      "text/plain": [
       "<Figure size 432x288 with 1 Axes>"
      ]
     },
     "metadata": {
      "needs_background": "light"
     },
     "output_type": "display_data"
    }
   ],
   "source": [
    "#Plot ROC\n",
    "from sklearn.metrics import roc_curve, auc\n",
    "import matplotlib.pyplot as plt\n",
    "y_pred = np.argmax(model.predict(x_test), axis=1)\n",
    "y_true = np.argmax(y_test, axis=1)\n",
    "fpr, tpr, thresholds = roc_curve(y_true, y_pred)\n",
    "auc = auc(fpr, tpr)\n",
    "\n",
    "plt.figure()\n",
    "plt.plot([0, 1], [0, 1], 'k--')\n",
    "plt.plot(fpr, tpr, label='Keras-EfficientNetB3 no pretrain (area = {:.3f})'.format(auc))\n",
    "#plt.xlabel('False positive rate')\n",
    "#plt.ylabel('True positive rate')\n",
    "plt.title('ROC curve')\n",
    "plt.legend(loc='best')\n",
    "plt.show()"
   ]
  },
  {
   "cell_type": "code",
   "execution_count": null,
   "metadata": {},
   "outputs": [],
   "source": []
  }
 ],
 "metadata": {
  "accelerator": "GPU",
  "colab": {
   "collapsed_sections": [],
   "name": "DenseNet-Pretrained.ipynb",
   "provenance": []
  },
  "kernelspec": {
   "display_name": "Python 3",
   "language": "python",
   "name": "python3"
  },
  "language_info": {
   "codemirror_mode": {
    "name": "ipython",
    "version": 3
   },
   "file_extension": ".py",
   "mimetype": "text/x-python",
   "name": "python",
   "nbconvert_exporter": "python",
   "pygments_lexer": "ipython3",
   "version": "3.8.8"
  }
 },
 "nbformat": 4,
 "nbformat_minor": 4
}

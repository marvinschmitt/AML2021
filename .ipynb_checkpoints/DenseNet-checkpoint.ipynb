{
 "cells": [
  {
   "cell_type": "code",
   "execution_count": null,
   "metadata": {
    "id": "ckl7AGWJVIIQ"
   },
   "outputs": [],
   "source": [
    "from google.colab import drive\n",
    "from google.colab import files \n",
    "\n",
    "\n",
    "drive.mount(\"/content/gdrive\")\n",
    "print(os.getcwd())\n",
    "os.chdir(\"/content/gdrive/My Drive/AML2021\")\n",
    "print(os.getcwd())"
   ]
  },
  {
   "cell_type": "code",
   "execution_count": 1,
   "metadata": {
    "id": "bx-RnsY-zwe1"
   },
   "outputs": [],
   "source": [
    "import matplotlib.pyplot as plt\n",
    "import numpy as np\n",
    "import time\n",
    "import os\n",
    "\n",
    "import tensorflow as tf\n",
    "\n",
    "from tensorflow.keras import backend, optimizers, models, applications, metrics\n",
    "from tensorflow.keras.layers import GlobalAveragePooling2D, Dense, Input\n",
    "from tensorflow.keras.layers.experimental.preprocessing import Normalization\n",
    "from tensorflow.keras.callbacks import ModelCheckpoint, ReduceLROnPlateau, EarlyStopping, CSVLogger, TensorBoard\n",
    "import tensorflow.keras.utils as utils"
   ]
  },
  {
   "cell_type": "code",
   "execution_count": 2,
   "metadata": {
    "id": "2JFCMzZZBYnN",
    "outputId": "f0b8a7ae-cc87-4b9d-864a-df094ce0259a"
   },
   "outputs": [
    {
     "data": {
      "text/plain": [
       "[PhysicalDevice(name='/physical_device:GPU:0', device_type='GPU')]"
      ]
     },
     "execution_count": 2,
     "metadata": {},
     "output_type": "execute_result"
    }
   ],
   "source": [
    "tf.config.list_physical_devices('GPU') "
   ]
  },
  {
   "cell_type": "code",
   "execution_count": 3,
   "metadata": {
    "colab": {
     "base_uri": "https://localhost:8080/"
    },
    "executionInfo": {
     "elapsed": 85508,
     "status": "ok",
     "timestamp": 1631545503534,
     "user": {
      "displayName": "Fabian Wolf",
      "photoUrl": "https://lh3.googleusercontent.com/a/default-user=s64",
      "userId": "09467462183684170769"
     },
     "user_tz": -120
    },
    "id": "X1NJt03q4v2r",
    "outputId": "9d089700-31bb-43e3-e4f0-d19bbfe7b99b"
   },
   "outputs": [
    {
     "name": "stdout",
     "output_type": "stream",
     "text": [
      "(16324, 299, 299, 3) (16324, 2)\n"
     ]
    }
   ],
   "source": [
    "x_train = np.load(\"x_train.npy\")\n",
    "y_train = np.load(\"y_train.npy\")\n",
    "\n",
    "print(x_train.shape, y_train.shape)"
   ]
  },
  {
   "cell_type": "code",
   "execution_count": 4,
   "metadata": {
    "colab": {
     "base_uri": "https://localhost:8080/",
     "height": 784
    },
    "executionInfo": {
     "elapsed": 110051,
     "status": "error",
     "timestamp": 1631545613581,
     "user": {
      "displayName": "Fabian Wolf",
      "photoUrl": "https://lh3.googleusercontent.com/a/default-user=s64",
      "userId": "09467462183684170769"
     },
     "user_tz": -120
    },
    "id": "-Y81Fa8KeSTH",
    "outputId": "c77ebe8b-a712-4f2a-ebdd-1f91d9faacb6"
   },
   "outputs": [
    {
     "name": "stdout",
     "output_type": "stream",
     "text": [
      "Epoch 1/120\n",
      "817/817 [==============================] - 292s 343ms/step - loss: 1.0623 - auroc: 0.6640 - accuracy: 0.6217 - precision: 0.6217 - recall: 0.6217 - val_loss: 0.6210 - val_auroc: 0.7694 - val_accuracy: 0.6998 - val_precision: 0.6998 - val_recall: 0.6998\n",
      "\n",
      "Epoch 00001: saving model to models/Densenet121_NoPretraining_lowerPatience-14-09-2021_20-28-14\\latest-Densenet121_NoPretraining_lowerPatience-14-09-2021_20-28-14.hdf5\n",
      "\n",
      "Epoch 00001: val_auroc improved from inf to 0.76939, saving model to models/Densenet121_NoPretraining_lowerPatience-14-09-2021_20-28-14\\best-Densenet121_NoPretraining_lowerPatience-14-09-2021_20-28-14.hdf5\n",
      "Epoch 2/120\n",
      "817/817 [==============================] - 274s 336ms/step - loss: 0.4557 - auroc: 0.8685 - accuracy: 0.7884 - precision: 0.7884 - recall: 0.7884 - val_loss: 0.4114 - val_auroc: 0.9030 - val_accuracy: 0.8306 - val_precision: 0.8306 - val_recall: 0.8306\n",
      "\n",
      "Epoch 00002: saving model to models/Densenet121_NoPretraining_lowerPatience-14-09-2021_20-28-14\\latest-Densenet121_NoPretraining_lowerPatience-14-09-2021_20-28-14.hdf5\n",
      "\n",
      "Epoch 00002: val_auroc did not improve from 0.76939\n",
      "Epoch 3/120\n",
      "817/817 [==============================] - 274s 336ms/step - loss: 0.3827 - auroc: 0.9105 - accuracy: 0.8306 - precision: 0.8306 - recall: 0.8306 - val_loss: 0.2923 - val_auroc: 0.9506 - val_accuracy: 0.8897 - val_precision: 0.8897 - val_recall: 0.8897\n",
      "\n",
      "Epoch 00003: saving model to models/Densenet121_NoPretraining_lowerPatience-14-09-2021_20-28-14\\latest-Densenet121_NoPretraining_lowerPatience-14-09-2021_20-28-14.hdf5\n",
      "\n",
      "Epoch 00003: val_auroc did not improve from 0.76939\n",
      "Epoch 4/120\n",
      "817/817 [==============================] - 275s 336ms/step - loss: 0.2912 - auroc: 0.9485 - accuracy: 0.8807 - precision: 0.8807 - recall: 0.8807 - val_loss: 1.1814 - val_auroc: 0.7375 - val_accuracy: 0.6533 - val_precision: 0.6533 - val_recall: 0.6533\n",
      "\n",
      "Epoch 00004: saving model to models/Densenet121_NoPretraining_lowerPatience-14-09-2021_20-28-14\\latest-Densenet121_NoPretraining_lowerPatience-14-09-2021_20-28-14.hdf5\n",
      "\n",
      "Epoch 00004: val_auroc improved from 0.76939 to 0.73750, saving model to models/Densenet121_NoPretraining_lowerPatience-14-09-2021_20-28-14\\best-Densenet121_NoPretraining_lowerPatience-14-09-2021_20-28-14.hdf5\n",
      "Epoch 5/120\n",
      "817/817 [==============================] - 275s 336ms/step - loss: 0.2453 - auroc: 0.9631 - accuracy: 0.9023 - precision: 0.9023 - recall: 0.9023 - val_loss: 0.2740 - val_auroc: 0.9587 - val_accuracy: 0.8946 - val_precision: 0.8946 - val_recall: 0.8946\n",
      "\n",
      "Epoch 00005: saving model to models/Densenet121_NoPretraining_lowerPatience-14-09-2021_20-28-14\\latest-Densenet121_NoPretraining_lowerPatience-14-09-2021_20-28-14.hdf5\n",
      "\n",
      "Epoch 00005: val_auroc did not improve from 0.73750\n",
      "Epoch 6/120\n",
      "817/817 [==============================] - 276s 338ms/step - loss: 0.1996 - auroc: 0.9753 - accuracy: 0.9201 - precision: 0.9201 - recall: 0.9201 - val_loss: 0.4032 - val_auroc: 0.9234 - val_accuracy: 0.8401 - val_precision: 0.8401 - val_recall: 0.8401\n",
      "\n",
      "Epoch 00006: saving model to models/Densenet121_NoPretraining_lowerPatience-14-09-2021_20-28-14\\latest-Densenet121_NoPretraining_lowerPatience-14-09-2021_20-28-14.hdf5\n",
      "\n",
      "Epoch 00006: val_auroc did not improve from 0.73750\n",
      "Epoch 7/120\n",
      "817/817 [==============================] - 275s 337ms/step - loss: 0.1906 - auroc: 0.9772 - accuracy: 0.9253 - precision: 0.9253 - recall: 0.9253 - val_loss: 0.2254 - val_auroc: 0.9714 - val_accuracy: 0.9164 - val_precision: 0.9164 - val_recall: 0.9164\n",
      "\n",
      "Epoch 00007: saving model to models/Densenet121_NoPretraining_lowerPatience-14-09-2021_20-28-14\\latest-Densenet121_NoPretraining_lowerPatience-14-09-2021_20-28-14.hdf5\n",
      "\n",
      "Epoch 00007: val_auroc did not improve from 0.73750\n",
      "Epoch 8/120\n",
      "817/817 [==============================] - 275s 337ms/step - loss: 0.1715 - auroc: 0.9815 - accuracy: 0.9336 - precision: 0.9336 - recall: 0.9336 - val_loss: 0.2090 - val_auroc: 0.9757 - val_accuracy: 0.9228 - val_precision: 0.9228 - val_recall: 0.9228\n",
      "\n",
      "Epoch 00008: saving model to models/Densenet121_NoPretraining_lowerPatience-14-09-2021_20-28-14\\latest-Densenet121_NoPretraining_lowerPatience-14-09-2021_20-28-14.hdf5\n",
      "\n",
      "Epoch 00008: val_auroc did not improve from 0.73750\n",
      "Epoch 9/120\n",
      "817/817 [==============================] - 275s 337ms/step - loss: 0.1267 - auroc: 0.9894 - accuracy: 0.9514 - precision: 0.9514 - recall: 0.9514 - val_loss: 0.1753 - val_auroc: 0.9809 - val_accuracy: 0.9394 - val_precision: 0.9394 - val_recall: 0.9394\n",
      "\n",
      "Epoch 00009: saving model to models/Densenet121_NoPretraining_lowerPatience-14-09-2021_20-28-14\\latest-Densenet121_NoPretraining_lowerPatience-14-09-2021_20-28-14.hdf5\n",
      "\n",
      "Epoch 00009: val_auroc did not improve from 0.73750\n",
      "\n",
      "Epoch 00009: ReduceLROnPlateau reducing learning rate to 0.010000000149011612.\n",
      "Epoch 10/120\n",
      "817/817 [==============================] - 275s 337ms/step - loss: 0.1023 - auroc: 0.9927 - accuracy: 0.9605 - precision: 0.9605 - recall: 0.9605 - val_loss: 0.0643 - val_auroc: 0.9970 - val_accuracy: 0.9776 - val_precision: 0.9776 - val_recall: 0.9776\n",
      "\n",
      "Epoch 00010: saving model to models/Densenet121_NoPretraining_lowerPatience-14-09-2021_20-28-14\\latest-Densenet121_NoPretraining_lowerPatience-14-09-2021_20-28-14.hdf5\n",
      "\n",
      "Epoch 00010: val_auroc did not improve from 0.73750\n",
      "Epoch 11/120\n",
      "817/817 [==============================] - 275s 337ms/step - loss: 0.0489 - auroc: 0.9983 - accuracy: 0.9823 - precision: 0.9823 - recall: 0.9823 - val_loss: 0.0620 - val_auroc: 0.9969 - val_accuracy: 0.9767 - val_precision: 0.9767 - val_recall: 0.9767\n",
      "\n",
      "Epoch 00011: saving model to models/Densenet121_NoPretraining_lowerPatience-14-09-2021_20-28-14\\latest-Densenet121_NoPretraining_lowerPatience-14-09-2021_20-28-14.hdf5\n",
      "\n",
      "Epoch 00011: val_auroc did not improve from 0.73750\n",
      "Epoch 12/120\n",
      "817/817 [==============================] - 275s 337ms/step - loss: 0.0369 - auroc: 0.9991 - accuracy: 0.9872 - precision: 0.9872 - recall: 0.9872 - val_loss: 0.0594 - val_auroc: 0.9965 - val_accuracy: 0.9783 - val_precision: 0.9783 - val_recall: 0.9783\n",
      "\n",
      "Epoch 00012: saving model to models/Densenet121_NoPretraining_lowerPatience-14-09-2021_20-28-14\\latest-Densenet121_NoPretraining_lowerPatience-14-09-2021_20-28-14.hdf5\n",
      "\n",
      "Epoch 00012: val_auroc did not improve from 0.73750\n"
     ]
    },
    {
     "data": {
      "text/plain": [
       "<tensorflow.python.keras.callbacks.History at 0x1a1db53a430>"
      ]
     },
     "execution_count": 4,
     "metadata": {},
     "output_type": "execute_result"
    }
   ],
   "source": [
    "# Adapt Constants\n",
    "date = time.strftime(\"%d-%m-%Y_%H-%M-%S\")\n",
    "MODEL_NAME = f\"Densenet121_NoPretraining_lowerPatience-{date}\"\n",
    "os.makedirs(f'models/{MODEL_NAME}', exist_ok = True) \n",
    "INPUT_SHAPE = (299, 299, 3)\n",
    "NUM_CLASSES = 2\n",
    "INITIAL_EPOCH = 0\n",
    "NUM_EPOCHS = 120\n",
    "OPTIMIZER = optimizers.SGD(learning_rate=0.1, momentum=0.9, nesterov=False)\n",
    "BATCH_SIZE = 16\n",
    "\n",
    "LRS = ReduceLROnPlateau(monitor='val_auroc', factor=0.1, patience=5, verbose=1, mode='auto', min_delta=0.0001)\n",
    "ES = EarlyStopping(monitor='val_auroc', min_delta=0.0001, patience=8, verbose=0, mode='auto', baseline=None, restore_best_weights=False)\n",
    "\n",
    "\n",
    "MC = ModelCheckpoint(f'models/{MODEL_NAME}/latest-{MODEL_NAME}.hdf5', monitor='val_auroc', verbose=1, save_best_only=False, save_weights_only=False, mode='auto', save_freq=\"epoch\")\n",
    "MC_BEST = ModelCheckpoint(f'models/{MODEL_NAME}/best-{MODEL_NAME}.hdf5', monitor='val_auroc', verbose=1, save_best_only=True, save_weights_only=False, mode='auto', save_freq=\"epoch\")\n",
    "LOG = CSVLogger(f'models/{MODEL_NAME}/{MODEL_NAME}.log')\n",
    "TB = TensorBoard(log_dir=f'models/{MODEL_NAME}/logs')\n",
    "\n",
    "METRICS = [metrics.AUC(name='auroc', curve='ROC'),\n",
    "           metrics.CategoricalAccuracy(name='accuracy'),\n",
    "           metrics.Precision(name='precision'),\n",
    "           metrics.Recall(name='recall')\n",
    "           ]\n",
    "\n",
    "# Load data\n",
    "assert(backend.image_data_format()=='channels_last')\n",
    "\n",
    "# Model: preprocess, base model, top layer/classifier\n",
    "i = Input(shape=INPUT_SHAPE)\n",
    "x = Normalization(axis=1)(i)\n",
    "\n",
    "base_model = applications.densenet.DenseNet121(include_top=False, weights=None, input_shape=INPUT_SHAPE)\n",
    "x = base_model(x)\n",
    "\n",
    "x = GlobalAveragePooling2D(name='avg_pool')(x)\n",
    "o = Dense(NUM_CLASSES, activation='softmax', name=f'fc-{NUM_CLASSES}')(x)\n",
    "\n",
    "model = models.Model(inputs=i, outputs=o)\n",
    "\n",
    "# Train Model\n",
    "if INITIAL_EPOCH != 0:\n",
    "\tmodel = models.load_model(f'models/{MODEL_NAME}/latest-{MODEL_NAME}.hdf5', compile=True)\n",
    "else:\n",
    "  model.compile(optimizer=OPTIMIZER, loss='categorical_crossentropy', metrics=METRICS)\n",
    "\n",
    "model.fit(x=x_train, y=y_train, batch_size=BATCH_SIZE, validation_split = 0.2, callbacks = [MC, MC_BEST, LRS, ES, LOG, TB], epochs = NUM_EPOCHS, initial_epoch = INITIAL_EPOCH)\n",
    "\n"
   ]
  },
  {
   "cell_type": "code",
   "execution_count": 5,
   "metadata": {},
   "outputs": [
    {
     "name": "stdout",
     "output_type": "stream",
     "text": [
      "173/173 [==============================] - 17s 88ms/step - loss: 0.0817 - auroc: 0.9959 - accuracy: 0.9696 - precision: 0.9696 - recall: 0.9696\n",
      "wrote \"Densenet121_NoPretraining_lowerPatience-14-09-2021_20-28-14 test_loss: 0.08173692971467972, test_auroc: 0.9958634972572327, test_acc: 0.9695982336997986, test_prec: 0.9695982336997986, test_rec: 0.9695982336997986, test_f1: 0.9695982336997986\n",
      "\" to results.txt \n"
     ]
    }
   ],
   "source": [
    "# Eval Model\n",
    "x_test = np.load(\"x_test.npy\")\n",
    "y_test = np.load(\"y_test.npy\")\n",
    "\n",
    "model = models.load_model(f'models/{MODEL_NAME}/latest-{MODEL_NAME}.hdf5', compile=True)\n",
    "out = model.evaluate(x=x_test, y=y_test, batch_size=BATCH_SIZE, verbose=1)\n",
    "\n",
    "# Save Results\n",
    "with open(\"results.txt\",\"a+\") as f:\n",
    "  f.write(f\"{MODEL_NAME} test_loss: {out[0]}, test_auroc: {out[1]}, test_acc: {out[2]}, test_prec: {out[3]}, test_rec: {out[4]}, test_f1: {2* ((out[3]*out[4]) / (out[3]+out[4]))}\\n\")\n",
    "print(f\"wrote \\\"{MODEL_NAME} test_loss: {out[0]}, test_auroc: {out[1]}, test_acc: {out[2]}, test_prec: {out[3]}, test_rec: {out[4]}, test_f1: {2* ((out[3]*out[4]) / (out[3]+out[4]))}\\n\\\" to results.txt \")"
   ]
  },
  {
   "cell_type": "code",
   "execution_count": 6,
   "metadata": {
    "id": "5likFaHpF8iY"
   },
   "outputs": [
    {
     "data": {
      "image/png": "[encoded data removed]",
      "text/plain": [
       "<Figure size 432x288 with 1 Axes>"
      ]
     },
     "metadata": {
      "needs_background": "light"
     },
     "output_type": "display_data"
    }
   ],
   "source": [
    "#Plot ROC\n",
    "from sklearn.metrics import roc_curve, auc\n",
    "import matplotlib.pyplot as plt\n",
    "y_pred = np.argmax(model.predict(x_test), axis=1)\n",
    "y_true = np.argmax(y_test, axis=1)\n",
    "fpr, tpr, thresholds = roc_curve(y_true, y_pred)\n",
    "auc = auc(fpr, tpr)\n",
    "\n",
    "plt.figure()\n",
    "plt.plot([0, 1], [0, 1], 'k--')\n",
    "plt.plot(fpr, tpr, label='DenseNet121 no Pretraining, low Patience (area = {:.3f})'.format(auc))\n",
    "plt.xlabel('False positive rate')\n",
    "plt.ylabel('True positive rate')\n",
    "plt.title('ROC curve')\n",
    "plt.legend(loc='best')\n",
    "plt.show()"
   ]
  },
  {
   "cell_type": "code",
   "execution_count": null,
   "metadata": {},
   "outputs": [],
   "source": []
  }
 ],
 "metadata": {
  "accelerator": "GPU",
  "colab": {
   "collapsed_sections": [],
   "name": "DenseNet.ipynb",
   "provenance": []
  },
  "kernelspec": {
   "display_name": "Python 3",
   "language": "python",
   "name": "python3"
  },
  "language_info": {
   "codemirror_mode": {
    "name": "ipython",
    "version": 3
   },
   "file_extension": ".py",
   "mimetype": "text/x-python",
   "name": "python",
   "nbconvert_exporter": "python",
   "pygments_lexer": "ipython3",
   "version": "3.8.8"
  }
 },
 "nbformat": 4,
 "nbformat_minor": 4
}

{
 "cells": [
  {
   "cell_type": "code",
   "execution_count": null,
   "metadata": {
    "colab": {
     "base_uri": "https://localhost:8080/"
    },
    "executionInfo": {
     "elapsed": 15653,
     "status": "ok",
     "timestamp": 1631545415208,
     "user": {
      "displayName": "Fabian Wolf",
      "photoUrl": "https://lh3.googleusercontent.com/a/default-user=s64",
      "userId": "09467462183684170769"
     },
     "user_tz": -120
    },
    "id": "ckl7AGWJVIIQ",
    "outputId": "98784f02-a6d4-4efe-d860-6eb664aa3809"
   },
   "outputs": [],
   "source": [
    "from google.colab import drive\n",
    "from google.colab import files \n",
    "\n",
    "\n",
    "drive.mount(\"/content/gdrive\")\n",
    "print(os.getcwd())\n",
    "os.chdir(\"/content/gdrive/My Drive/AML2021\")\n",
    "print(os.getcwd())"
   ]
  },
  {
   "cell_type": "code",
   "execution_count": 5,
   "metadata": {
    "id": "bx-RnsY-zwe1"
   },
   "outputs": [],
   "source": [
    "import matplotlib.pyplot as plt\n",
    "import numpy as np\n",
    "import time\n",
    "import os\n",
    "\n",
    "import tensorflow as tf\n",
    "\n",
    "from tensorflow.keras import backend, optimizers, models, applications, metrics\n",
    "from tensorflow.keras.layers import GlobalAveragePooling2D, Dense, Input\n",
    "from tensorflow.keras.callbacks import ModelCheckpoint, ReduceLROnPlateau, EarlyStopping, CSVLogger, TensorBoard\n",
    "import tensorflow.keras.utils as utils"
   ]
  },
  {
   "cell_type": "code",
   "execution_count": 2,
   "metadata": {},
   "outputs": [
    {
     "data": {
      "text/plain": [
       "[PhysicalDevice(name='/physical_device:GPU:0', device_type='GPU')]"
      ]
     },
     "execution_count": 2,
     "metadata": {},
     "output_type": "execute_result"
    }
   ],
   "source": [
    "tf.config.list_physical_devices('GPU') "
   ]
  },
  {
   "cell_type": "code",
   "execution_count": 3,
   "metadata": {
    "colab": {
     "base_uri": "https://localhost:8080/"
    },
    "executionInfo": {
     "elapsed": 85508,
     "status": "ok",
     "timestamp": 1631545503534,
     "user": {
      "displayName": "Fabian Wolf",
      "photoUrl": "https://lh3.googleusercontent.com/a/default-user=s64",
      "userId": "09467462183684170769"
     },
     "user_tz": -120
    },
    "id": "X1NJt03q4v2r",
    "outputId": "9d089700-31bb-43e3-e4f0-d19bbfe7b99b"
   },
   "outputs": [
    {
     "name": "stdout",
     "output_type": "stream",
     "text": [
      "(16324, 299, 299, 3) (16324, 2)\n"
     ]
    }
   ],
   "source": [
    "x_train = np.load(\"x_train.npy\")\n",
    "y_train = np.load(\"y_train.npy\")\n",
    "\n",
    "print(x_train.shape, y_train.shape)"
   ]
  },
  {
   "cell_type": "code",
   "execution_count": 7,
   "metadata": {
    "colab": {
     "base_uri": "https://localhost:8080/",
     "height": 784
    },
    "executionInfo": {
     "elapsed": 110051,
     "status": "error",
     "timestamp": 1631545613581,
     "user": {
      "displayName": "Fabian Wolf",
      "photoUrl": "https://lh3.googleusercontent.com/a/default-user=s64",
      "userId": "09467462183684170769"
     },
     "user_tz": -120
    },
    "id": "-Y81Fa8KeSTH",
    "outputId": "c77ebe8b-a712-4f2a-ebdd-1f91d9faacb6"
   },
   "outputs": [
    {
     "name": "stdout",
     "output_type": "stream",
     "text": [
      "Downloading data from https://storage.googleapis.com/tensorflow/keras-applications/densenet/densenet121_weights_tf_dim_ordering_tf_kernels_notop.h5\n",
      "29089792/29084464 [==============================] - 5s 0us/step\n",
      "Epoch 1/120\n",
      "817/817 [==============================] - 298s 345ms/step - loss: 1.6400 - auroc: 0.6631 - accuracy: 0.6373 - precision: 0.6373 - recall: 0.6373 - val_loss: 0.7131 - val_auroc: 0.7111 - val_accuracy: 0.6429 - val_precision: 0.6429 - val_recall: 0.6429\n",
      "\n",
      "Epoch 00001: saving model to models/Densenet121-14-09-2021_10-49-43\\latest-Densenet121-14-09-2021_10-49-43.hdf5\n",
      "\n",
      "Epoch 00001: val_auroc improved from inf to 0.71114, saving model to models/Densenet121-14-09-2021_10-49-43\\best-Densenet121-14-09-2021_10-49-43.hdf5\n",
      "Epoch 2/120\n",
      "817/817 [==============================] - 278s 340ms/step - loss: 0.5254 - auroc: 0.8227 - accuracy: 0.7512 - precision: 0.7512 - recall: 0.7512 - val_loss: 0.7299 - val_auroc: 0.7476 - val_accuracy: 0.6570 - val_precision: 0.6570 - val_recall: 0.6570\n",
      "\n",
      "Epoch 00002: saving model to models/Densenet121-14-09-2021_10-49-43\\latest-Densenet121-14-09-2021_10-49-43.hdf5\n",
      "\n",
      "Epoch 00002: val_auroc did not improve from 0.71114\n",
      "Epoch 3/120\n",
      "817/817 [==============================] - 275s 337ms/step - loss: 0.4332 - auroc: 0.8834 - accuracy: 0.8049 - precision: 0.8049 - recall: 0.8049 - val_loss: 1.6812 - val_auroc: 0.6567 - val_accuracy: 0.6184 - val_precision: 0.6184 - val_recall: 0.6184\n",
      "\n",
      "Epoch 00003: saving model to models/Densenet121-14-09-2021_10-49-43\\latest-Densenet121-14-09-2021_10-49-43.hdf5\n",
      "\n",
      "Epoch 00003: val_auroc improved from 0.71114 to 0.65672, saving model to models/Densenet121-14-09-2021_10-49-43\\best-Densenet121-14-09-2021_10-49-43.hdf5\n",
      "Epoch 4/120\n",
      "817/817 [==============================] - 276s 337ms/step - loss: 0.3589 - auroc: 0.9235 - accuracy: 0.8513 - precision: 0.8513 - recall: 0.8513 - val_loss: 0.3541 - val_auroc: 0.9275 - val_accuracy: 0.8505 - val_precision: 0.8505 - val_recall: 0.8505\n",
      "\n",
      "Epoch 00004: saving model to models/Densenet121-14-09-2021_10-49-43\\latest-Densenet121-14-09-2021_10-49-43.hdf5\n",
      "\n",
      "Epoch 00004: val_auroc did not improve from 0.65672\n",
      "Epoch 5/120\n",
      "817/817 [==============================] - 274s 336ms/step - loss: 0.2671 - auroc: 0.9566 - accuracy: 0.8939 - precision: 0.8939 - recall: 0.8939 - val_loss: 0.7018 - val_auroc: 0.7513 - val_accuracy: 0.5893 - val_precision: 0.5893 - val_recall: 0.5893\n",
      "\n",
      "Epoch 00005: saving model to models/Densenet121-14-09-2021_10-49-43\\latest-Densenet121-14-09-2021_10-49-43.hdf5\n",
      "\n",
      "Epoch 00005: val_auroc did not improve from 0.65672\n",
      "Epoch 6/120\n",
      "817/817 [==============================] - 275s 337ms/step - loss: 0.2082 - auroc: 0.9734 - accuracy: 0.9207 - precision: 0.9207 - recall: 0.9207 - val_loss: 0.5277 - val_auroc: 0.8786 - val_accuracy: 0.7712 - val_precision: 0.7712 - val_recall: 0.7712\n",
      "\n",
      "Epoch 00006: saving model to models/Densenet121-14-09-2021_10-49-43\\latest-Densenet121-14-09-2021_10-49-43.hdf5\n",
      "\n",
      "Epoch 00006: val_auroc did not improve from 0.65672\n",
      "Epoch 7/120\n",
      "817/817 [==============================] - 275s 336ms/step - loss: 0.1834 - auroc: 0.9791 - accuracy: 0.9304 - precision: 0.9304 - recall: 0.9304 - val_loss: 0.2411 - val_auroc: 0.9712 - val_accuracy: 0.9130 - val_precision: 0.9130 - val_recall: 0.9130\n",
      "\n",
      "Epoch 00007: saving model to models/Densenet121-14-09-2021_10-49-43\\latest-Densenet121-14-09-2021_10-49-43.hdf5\n",
      "\n",
      "Epoch 00007: val_auroc did not improve from 0.65672\n",
      "Epoch 8/120\n",
      "817/817 [==============================] - 275s 337ms/step - loss: 0.1628 - auroc: 0.9833 - accuracy: 0.9383 - precision: 0.9383 - recall: 0.9383 - val_loss: 0.1573 - val_auroc: 0.9844 - val_accuracy: 0.9430 - val_precision: 0.9430 - val_recall: 0.9430\n",
      "\n",
      "Epoch 00008: saving model to models/Densenet121-14-09-2021_10-49-43\\latest-Densenet121-14-09-2021_10-49-43.hdf5\n",
      "\n",
      "Epoch 00008: val_auroc did not improve from 0.65672\n",
      "Epoch 9/120\n",
      "817/817 [==============================] - 275s 337ms/step - loss: 0.1331 - auroc: 0.9882 - accuracy: 0.9528 - precision: 0.9528 - recall: 0.9528 - val_loss: 0.5026 - val_auroc: 0.8807 - val_accuracy: 0.7730 - val_precision: 0.7730 - val_recall: 0.7730\n",
      "\n",
      "Epoch 00009: saving model to models/Densenet121-14-09-2021_10-49-43\\latest-Densenet121-14-09-2021_10-49-43.hdf5\n",
      "\n",
      "Epoch 00009: val_auroc did not improve from 0.65672\n",
      "Epoch 10/120\n",
      "817/817 [==============================] - 274s 335ms/step - loss: 0.1247 - auroc: 0.9896 - accuracy: 0.9546 - precision: 0.9546 - recall: 0.9546 - val_loss: 0.5347 - val_auroc: 0.8778 - val_accuracy: 0.7841 - val_precision: 0.7841 - val_recall: 0.7841\n",
      "\n",
      "Epoch 00010: saving model to models/Densenet121-14-09-2021_10-49-43\\latest-Densenet121-14-09-2021_10-49-43.hdf5\n",
      "\n",
      "Epoch 00010: val_auroc did not improve from 0.65672\n",
      "Epoch 11/120\n",
      "817/817 [==============================] - 274s 336ms/step - loss: 0.1074 - auroc: 0.9924 - accuracy: 0.9601 - precision: 0.9601 - recall: 0.9601 - val_loss: 0.1722 - val_auroc: 0.9820 - val_accuracy: 0.9415 - val_precision: 0.9415 - val_recall: 0.9415\n",
      "\n",
      "Epoch 00011: saving model to models/Densenet121-14-09-2021_10-49-43\\latest-Densenet121-14-09-2021_10-49-43.hdf5\n",
      "\n",
      "Epoch 00011: val_auroc did not improve from 0.65672\n",
      "Epoch 12/120\n",
      "817/817 [==============================] - 275s 336ms/step - loss: 0.0916 - auroc: 0.9941 - accuracy: 0.9672 - precision: 0.9672 - recall: 0.9672 - val_loss: 0.1212 - val_auroc: 0.9907 - val_accuracy: 0.9583 - val_precision: 0.9583 - val_recall: 0.9583\n",
      "\n",
      "Epoch 00012: saving model to models/Densenet121-14-09-2021_10-49-43\\latest-Densenet121-14-09-2021_10-49-43.hdf5\n",
      "\n",
      "Epoch 00012: val_auroc did not improve from 0.65672\n",
      "Epoch 13/120\n",
      "817/817 [==============================] - 274s 336ms/step - loss: 0.0869 - auroc: 0.9946 - accuracy: 0.9693 - precision: 0.9693 - recall: 0.9693 - val_loss: 0.1807 - val_auroc: 0.9822 - val_accuracy: 0.9320 - val_precision: 0.9320 - val_recall: 0.9320\n",
      "\n",
      "Epoch 00013: saving model to models/Densenet121-14-09-2021_10-49-43\\latest-Densenet121-14-09-2021_10-49-43.hdf5\n",
      "\n",
      "Epoch 00013: val_auroc did not improve from 0.65672\n",
      "\n",
      "Epoch 00013: ReduceLROnPlateau reducing learning rate to 0.010000000149011612.\n",
      "Epoch 14/120\n",
      "817/817 [==============================] - 274s 335ms/step - loss: 0.0504 - auroc: 0.9982 - accuracy: 0.9832 - precision: 0.9832 - recall: 0.9832 - val_loss: 0.0597 - val_auroc: 0.9970 - val_accuracy: 0.9801 - val_precision: 0.9801 - val_recall: 0.9801\n",
      "\n",
      "Epoch 00014: saving model to models/Densenet121-14-09-2021_10-49-43\\latest-Densenet121-14-09-2021_10-49-43.hdf5\n",
      "\n",
      "Epoch 00014: val_auroc did not improve from 0.65672\n",
      "Epoch 15/120\n",
      "817/817 [==============================] - 274s 336ms/step - loss: 0.0448 - auroc: 0.9985 - accuracy: 0.9860 - precision: 0.9860 - recall: 0.9860 - val_loss: 0.0582 - val_auroc: 0.9972 - val_accuracy: 0.9819 - val_precision: 0.9819 - val_recall: 0.9819\n",
      "\n",
      "Epoch 00015: saving model to models/Densenet121-14-09-2021_10-49-43\\latest-Densenet121-14-09-2021_10-49-43.hdf5\n",
      "\n",
      "Epoch 00015: val_auroc did not improve from 0.65672\n",
      "Epoch 16/120\n",
      "817/817 [==============================] - 274s 335ms/step - loss: 0.0302 - auroc: 0.9995 - accuracy: 0.9905 - precision: 0.9905 - recall: 0.9905 - val_loss: 0.0492 - val_auroc: 0.9979 - val_accuracy: 0.9847 - val_precision: 0.9847 - val_recall: 0.9847\n",
      "\n",
      "Epoch 00016: saving model to models/Densenet121-14-09-2021_10-49-43\\latest-Densenet121-14-09-2021_10-49-43.hdf5\n",
      "\n",
      "Epoch 00016: val_auroc did not improve from 0.65672\n",
      "Epoch 17/120\n",
      "817/817 [==============================] - 274s 335ms/step - loss: 0.0324 - auroc: 0.9993 - accuracy: 0.9899 - precision: 0.9899 - recall: 0.9899 - val_loss: 0.0482 - val_auroc: 0.9975 - val_accuracy: 0.9844 - val_precision: 0.9844 - val_recall: 0.9844\n",
      "\n",
      "Epoch 00017: saving model to models/Densenet121-14-09-2021_10-49-43\\latest-Densenet121-14-09-2021_10-49-43.hdf5\n",
      "\n",
      "Epoch 00017: val_auroc did not improve from 0.65672\n",
      "Epoch 18/120\n",
      "817/817 [==============================] - 274s 336ms/step - loss: 0.0293 - auroc: 0.9992 - accuracy: 0.9905 - precision: 0.9905 - recall: 0.9905 - val_loss: 0.0450 - val_auroc: 0.9983 - val_accuracy: 0.9865 - val_precision: 0.9865 - val_recall: 0.9865\n",
      "\n",
      "Epoch 00018: saving model to models/Densenet121-14-09-2021_10-49-43\\latest-Densenet121-14-09-2021_10-49-43.hdf5\n",
      "\n",
      "Epoch 00018: val_auroc did not improve from 0.65672\n"
     ]
    },
    {
     "ename": "NameError",
     "evalue": "name 'test_generator' is not defined",
     "output_type": "error",
     "traceback": [
      "\u001b[1;31m---------------------------------------------------------------------------\u001b[0m",
      "\u001b[1;31mNameError\u001b[0m                                 Traceback (most recent call last)",
      "\u001b[1;32m<ipython-input-7-ad1a21b3d5f1>\u001b[0m in \u001b[0;36m<module>\u001b[1;34m\u001b[0m\n\u001b[0;32m     53\u001b[0m \u001b[1;33m\u001b[0m\u001b[0m\n\u001b[0;32m     54\u001b[0m \u001b[0mmodel\u001b[0m \u001b[1;33m=\u001b[0m \u001b[0mmodels\u001b[0m\u001b[1;33m.\u001b[0m\u001b[0mload_model\u001b[0m\u001b[1;33m(\u001b[0m\u001b[1;34mf'models/{MODEL_NAME}/latest-{MODEL_NAME}.hdf5'\u001b[0m\u001b[1;33m,\u001b[0m \u001b[0mcompile\u001b[0m\u001b[1;33m=\u001b[0m\u001b[1;32mTrue\u001b[0m\u001b[1;33m)\u001b[0m\u001b[1;33m\u001b[0m\u001b[1;33m\u001b[0m\u001b[0m\n\u001b[1;32m---> 55\u001b[1;33m \u001b[0mout\u001b[0m \u001b[1;33m=\u001b[0m \u001b[0mmodel\u001b[0m\u001b[1;33m.\u001b[0m\u001b[0mevaluate\u001b[0m\u001b[1;33m(\u001b[0m\u001b[0mtest_generator\u001b[0m\u001b[1;33m,\u001b[0m \u001b[0mbatch_size\u001b[0m\u001b[1;33m=\u001b[0m\u001b[0mBATCH_SIZE\u001b[0m\u001b[1;33m,\u001b[0m \u001b[0mverbose\u001b[0m\u001b[1;33m=\u001b[0m\u001b[1;36m1\u001b[0m\u001b[1;33m)\u001b[0m\u001b[1;33m\u001b[0m\u001b[1;33m\u001b[0m\u001b[0m\n\u001b[0m\u001b[0;32m     56\u001b[0m \u001b[1;33m\u001b[0m\u001b[0m\n\u001b[0;32m     57\u001b[0m \u001b[1;31m# Save Results\u001b[0m\u001b[1;33m\u001b[0m\u001b[1;33m\u001b[0m\u001b[1;33m\u001b[0m\u001b[0m\n",
      "\u001b[1;31mNameError\u001b[0m: name 'test_generator' is not defined"
     ]
    }
   ],
   "source": [
    "# Adapt Constants\n",
    "date = time.strftime(\"%d-%m-%Y_%H-%M-%S\")\n",
    "MODEL_NAME = f\"Densenet121-{date}\"\n",
    "os.makedirs(f'models/{MODEL_NAME}', exist_ok = True) \n",
    "INPUT_SHAPE = (299, 299, 3)\n",
    "NUM_CLASSES = 2\n",
    "INITIAL_EPOCH = 0\n",
    "NUM_EPOCHS = 120\n",
    "OPTIMIZER = optimizers.SGD(learning_rate=0.1, momentum=0.9, nesterov=False)\n",
    "BATCH_SIZE = 16\n",
    "\n",
    "LRS = ReduceLROnPlateau(monitor='val_auroc', factor=0.1, patience=10, verbose=1, mode='auto', min_delta=0.0001)\n",
    "ES = EarlyStopping(monitor='val_auroc', min_delta=0.0001, patience=15, verbose=0, mode='auto', baseline=None, restore_best_weights=False)\n",
    "\n",
    "\n",
    "MC = ModelCheckpoint(f'models/{MODEL_NAME}/latest-{MODEL_NAME}.hdf5', monitor='val_auroc', verbose=1, save_best_only=False, save_weights_only=False, mode='auto', save_freq=\"epoch\")\n",
    "MC_BEST = ModelCheckpoint(f'models/{MODEL_NAME}/best-{MODEL_NAME}.hdf5', monitor='val_auroc', verbose=1, save_best_only=True, save_weights_only=False, mode='auto', save_freq=\"epoch\")\n",
    "LOG = CSVLogger(f'models/{MODEL_NAME}/{MODEL_NAME}.log')\n",
    "TB = TensorBoard(log_dir=f'models/{MODEL_NAME}/logs')\n",
    "\n",
    "METRICS = [metrics.AUC(name='auroc', curve='ROC'),\n",
    "           metrics.CategoricalAccuracy(name='accuracy'),\n",
    "           metrics.Precision(name='precision'),\n",
    "           metrics.Recall(name='recall')\n",
    "           ]\n",
    "\n",
    "# Load data\n",
    "assert(backend.image_data_format()=='channels_last')\n",
    "\n",
    "# Model: preprocess, base model, top layer/classifier\n",
    "i = Input(shape=INPUT_SHAPE)\n",
    "x = applications.densenet.preprocess_input(i)\n",
    "\n",
    "base_model = applications.densenet.DenseNet121(include_top=False, weights=\"imagenet\", input_shape=INPUT_SHAPE)\n",
    "x = base_model(x)\n",
    "\n",
    "x = GlobalAveragePooling2D(name='avg_pool')(x)\n",
    "o = Dense(NUM_CLASSES, activation='softmax', name=f'fc{NUM_CLASSES}')(x)\n",
    "\n",
    "model = models.Model(inputs=i, outputs=o)\n",
    "\n",
    "# Train Model\n",
    "if INITIAL_EPOCH != 0:\n",
    "\tmodel = models.load_model(f'models/{MODEL_NAME}/latest-{MODEL_NAME}.hdf5', compile=True)\n",
    "else:\n",
    "  model.compile(optimizer=OPTIMIZER, loss='categorical_crossentropy', metrics=METRICS)\n",
    "\n",
    "model.fit(x=x_train, y=y_train, batch_size=BATCH_SIZE, validation_split = 0.2, callbacks = [MC, MC_BEST, LRS, ES, LOG, TB], epochs = NUM_EPOCHS, initial_epoch = INITIAL_EPOCH)"
   ]
  },
  {
   "cell_type": "code",
   "execution_count": 9,
   "metadata": {},
   "outputs": [
    {
     "name": "stdout",
     "output_type": "stream",
     "text": [
      "173/173 [==============================] - 17s 89ms/step - loss: 0.0549 - auroc: 0.9971 - accuracy: 0.9808 - precision: 0.9808 - recall: 0.9808\n",
      "wrote \"Densenet121-14-09-2021_10-49-43 test_loss: 0.054899416863918304, test_auroc: 0.997062623500824, test_acc: 0.980817973613739, test_prec: 0.980817973613739, test_rec: 0.980817973613739, test_f1: 0.980817973613739\n",
      "\" to results.txt \n"
     ]
    }
   ],
   "source": [
    "# Eval Model\n",
    "x_test = np.load(\"x_test.npy\")\n",
    "y_test = np.load(\"y_test.npy\")\n",
    "\n",
    "model = models.load_model(f'models/{MODEL_NAME}/latest-{MODEL_NAME}.hdf5', compile=True)\n",
    "out = model.evaluate(x=x_test, y=y_test, batch_size=BATCH_SIZE, verbose=1)\n",
    "\n",
    "# Save Results\n",
    "with open(\"results.txt\",\"a+\") as f:\n",
    "  f.write(f\"{MODEL_NAME} test_loss: {out[0]}, test_auroc: {out[1]}, test_acc: {out[2]}, test_prec: {out[3]}, test_rec: {out[4]}, test_f1: {2* ((out[3]*out[4]) / (out[3]+out[4]))}\\n\")\n",
    "print(f\"wrote \\\"{MODEL_NAME} test_loss: {out[0]}, test_auroc: {out[1]}, test_acc: {out[2]}, test_prec: {out[3]}, test_rec: {out[4]}, test_f1: {2* ((out[3]*out[4]) / (out[3]+out[4]))}\\n\\\" to results.txt \")"
   ]
  },
  {
   "cell_type": "code",
   "execution_count": 12,
   "metadata": {
    "id": "5likFaHpF8iY"
   },
   "outputs": [
    {
     "data": {
      "image/png": "[encoded data removed]",
      "text/plain": [
       "<Figure size 432x288 with 1 Axes>"
      ]
     },
     "metadata": {
      "needs_background": "light"
     },
     "output_type": "display_data"
    }
   ],
   "source": [
    "#Plot ROC\n",
    "from sklearn.metrics import roc_curve, auc\n",
    "import matplotlib.pyplot as plt\n",
    "y_pred = np.argmax(model.predict(x_test), axis=1)\n",
    "y_true = np.argmax(y_test, axis=1)\n",
    "fpr, tpr, thresholds = roc_curve(y_true, y_pred)\n",
    "auc = auc(fpr, tpr)\n",
    "\n",
    "plt.figure()\n",
    "plt.plot([0, 1], [0, 1], 'k--')\n",
    "plt.plot(fpr, tpr, label='Keras-DenseNet121 (area = {:.3f})'.format(auc))\n",
    "#plt.xlabel('False positive rate')\n",
    "#plt.ylabel('True positive rate')\n",
    "plt.title('ROC curve')\n",
    "plt.legend(loc='best')\n",
    "plt.show()"
   ]
  },
  {
   "cell_type": "code",
   "execution_count": null,
   "metadata": {},
   "outputs": [],
   "source": []
  }
 ],
 "metadata": {
  "accelerator": "GPU",
  "colab": {
   "collapsed_sections": [],
   "name": "DenseNet-Pretrained.ipynb",
   "provenance": []
  },
  "kernelspec": {
   "display_name": "Python 3",
   "language": "python",
   "name": "python3"
  },
  "language_info": {
   "codemirror_mode": {
    "name": "ipython",
    "version": 3
   },
   "file_extension": ".py",
   "mimetype": "text/x-python",
   "name": "python",
   "nbconvert_exporter": "python",
   "pygments_lexer": "ipython3",
   "version": "3.8.8"
  }
 },
 "nbformat": 4,
 "nbformat_minor": 4
}

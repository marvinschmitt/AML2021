{
 "cells": [
  {
   "cell_type": "code",
   "execution_count": null,
   "metadata": {
    "colab": {
     "base_uri": "https://localhost:8080/"
    },
    "executionInfo": {
     "elapsed": 15653,
     "status": "ok",
     "timestamp": 1631545415208,
     "user": {
      "displayName": "Fabian Wolf",
      "photoUrl": "https://lh3.googleusercontent.com/a/default-user=s64",
      "userId": "09467462183684170769"
     },
     "user_tz": -120
    },
    "id": "ckl7AGWJVIIQ",
    "outputId": "98784f02-a6d4-4efe-d860-6eb664aa3809"
   },
   "outputs": [],
   "source": [
    "from google.colab import drive\n",
    "from google.colab import files \n",
    "\n",
    "\n",
    "drive.mount(\"/content/gdrive\")\n",
    "print(os.getcwd())\n",
    "os.chdir(\"/content/gdrive/My Drive/AML2021\")\n",
    "print(os.getcwd())"
   ]
  },
  {
   "cell_type": "code",
   "execution_count": 1,
   "metadata": {
    "id": "bx-RnsY-zwe1"
   },
   "outputs": [],
   "source": [
    "import matplotlib.pyplot as plt\n",
    "import numpy as np\n",
    "import time\n",
    "import os\n",
    "\n",
    "import tensorflow as tf\n",
    "\n",
    "from tensorflow.keras import backend, optimizers, models, applications, metrics\n",
    "from tensorflow.keras.layers import GlobalAveragePooling2D, Dense, Input\n",
    "from tensorflow.keras.callbacks import ModelCheckpoint, ReduceLROnPlateau, EarlyStopping, CSVLogger, TensorBoard\n",
    "import tensorflow.keras.utils as utils"
   ]
  },
  {
   "cell_type": "code",
   "execution_count": 2,
   "metadata": {},
   "outputs": [
    {
     "data": {
      "text/plain": [
       "[PhysicalDevice(name='/physical_device:GPU:0', device_type='GPU')]"
      ]
     },
     "execution_count": 2,
     "metadata": {},
     "output_type": "execute_result"
    }
   ],
   "source": [
    "tf.config.list_physical_devices('GPU') "
   ]
  },
  {
   "cell_type": "code",
   "execution_count": 3,
   "metadata": {
    "colab": {
     "base_uri": "https://localhost:8080/"
    },
    "executionInfo": {
     "elapsed": 85508,
     "status": "ok",
     "timestamp": 1631545503534,
     "user": {
      "displayName": "Fabian Wolf",
      "photoUrl": "https://lh3.googleusercontent.com/a/default-user=s64",
      "userId": "09467462183684170769"
     },
     "user_tz": -120
    },
    "id": "X1NJt03q4v2r",
    "outputId": "9d089700-31bb-43e3-e4f0-d19bbfe7b99b"
   },
   "outputs": [
    {
     "name": "stdout",
     "output_type": "stream",
     "text": [
      "(16324, 299, 299, 3) (16324, 2)\n"
     ]
    }
   ],
   "source": [
    "x_train = np.load(\"x_train.npy\")\n",
    "y_train = np.load(\"y_train.npy\")\n",
    "\n",
    "print(x_train.shape, y_train.shape)"
   ]
  },
  {
   "cell_type": "code",
   "execution_count": 4,
   "metadata": {
    "colab": {
     "base_uri": "https://localhost:8080/",
     "height": 784
    },
    "executionInfo": {
     "elapsed": 110051,
     "status": "error",
     "timestamp": 1631545613581,
     "user": {
      "displayName": "Fabian Wolf",
      "photoUrl": "https://lh3.googleusercontent.com/a/default-user=s64",
      "userId": "09467462183684170769"
     },
     "user_tz": -120
    },
    "id": "-Y81Fa8KeSTH",
    "outputId": "c77ebe8b-a712-4f2a-ebdd-1f91d9faacb6"
   },
   "outputs": [
    {
     "name": "stdout",
     "output_type": "stream",
     "text": [
      "Epoch 1/120\n",
      "817/817 [==============================] - 425s 509ms/step - loss: 1.1992 - auroc: 0.5518 - accuracy: 0.5375 - precision: 0.5375 - recall: 0.5375 - val_loss: 0.6601 - val_auroc: 0.6606 - val_accuracy: 0.6101 - val_precision: 0.6101 - val_recall: 0.6101\n",
      "\n",
      "Epoch 00001: saving model to models/ResNet101-23-09-2021_14-22-13\\latest-ResNet101-23-09-2021_14-22-13.hdf5\n",
      "\n",
      "Epoch 00001: val_auroc improved from inf to 0.66061, saving model to models/ResNet101-23-09-2021_14-22-13\\best-ResNet101-23-09-2021_14-22-13.hdf5\n",
      "Epoch 2/120\n",
      "817/817 [==============================] - 413s 505ms/step - loss: 0.6143 - auroc: 0.7097 - accuracy: 0.6383 - precision: 0.6383 - recall: 0.6383 - val_loss: 0.5887 - val_auroc: 0.7464 - val_accuracy: 0.6683 - val_precision: 0.6683 - val_recall: 0.6683\n",
      "\n",
      "Epoch 00002: saving model to models/ResNet101-23-09-2021_14-22-13\\latest-ResNet101-23-09-2021_14-22-13.hdf5\n",
      "\n",
      "Epoch 00002: val_auroc did not improve from 0.66061\n",
      "Epoch 3/120\n",
      "817/817 [==============================] - 413s 506ms/step - loss: 0.5669 - auroc: 0.7673 - accuracy: 0.6859 - precision: 0.6859 - recall: 0.6859 - val_loss: 0.5333 - val_auroc: 0.8076 - val_accuracy: 0.7351 - val_precision: 0.7351 - val_recall: 0.7351\n",
      "\n",
      "Epoch 00003: saving model to models/ResNet101-23-09-2021_14-22-13\\latest-ResNet101-23-09-2021_14-22-13.hdf5\n",
      "\n",
      "Epoch 00003: val_auroc did not improve from 0.66061\n",
      "Epoch 4/120\n",
      "817/817 [==============================] - 414s 506ms/step - loss: 0.5201 - auroc: 0.8165 - accuracy: 0.7357 - precision: 0.7357 - recall: 0.7357 - val_loss: 0.6177 - val_auroc: 0.7564 - val_accuracy: 0.6319 - val_precision: 0.6319 - val_recall: 0.6319\n",
      "\n",
      "Epoch 00004: saving model to models/ResNet101-23-09-2021_14-22-13\\latest-ResNet101-23-09-2021_14-22-13.hdf5\n",
      "\n",
      "Epoch 00004: val_auroc did not improve from 0.66061\n",
      "Epoch 5/120\n",
      "817/817 [==============================] - 413s 506ms/step - loss: 0.4300 - auroc: 0.8820 - accuracy: 0.8016 - precision: 0.8016 - recall: 0.8016 - val_loss: 0.8460 - val_auroc: 0.7607 - val_accuracy: 0.6741 - val_precision: 0.6741 - val_recall: 0.6741\n",
      "\n",
      "Epoch 00005: saving model to models/ResNet101-23-09-2021_14-22-13\\latest-ResNet101-23-09-2021_14-22-13.hdf5\n",
      "\n",
      "Epoch 00005: val_auroc did not improve from 0.66061\n",
      "Epoch 6/120\n",
      "817/817 [==============================] - 414s 506ms/step - loss: 0.3033 - auroc: 0.9428 - accuracy: 0.8830 - precision: 0.8830 - recall: 0.8830 - val_loss: 0.7143 - val_auroc: 0.7819 - val_accuracy: 0.6931 - val_precision: 0.6931 - val_recall: 0.6931\n",
      "\n",
      "Epoch 00006: saving model to models/ResNet101-23-09-2021_14-22-13\\latest-ResNet101-23-09-2021_14-22-13.hdf5\n",
      "\n",
      "Epoch 00006: val_auroc did not improve from 0.66061\n",
      "Epoch 7/120\n",
      "817/817 [==============================] - 413s 506ms/step - loss: 0.2298 - auroc: 0.9665 - accuracy: 0.9163 - precision: 0.9163 - recall: 0.9163 - val_loss: 0.9808 - val_auroc: 0.8171 - val_accuracy: 0.7280 - val_precision: 0.7280 - val_recall: 0.7280\n",
      "\n",
      "Epoch 00007: saving model to models/ResNet101-23-09-2021_14-22-13\\latest-ResNet101-23-09-2021_14-22-13.hdf5\n",
      "\n",
      "Epoch 00007: val_auroc did not improve from 0.66061\n",
      "Epoch 8/120\n",
      "817/817 [==============================] - 414s 506ms/step - loss: 0.1782 - auroc: 0.9799 - accuracy: 0.9321 - precision: 0.9321 - recall: 0.9321 - val_loss: 0.2644 - val_auroc: 0.9601 - val_accuracy: 0.8949 - val_precision: 0.8949 - val_recall: 0.8949\n",
      "\n",
      "Epoch 00008: saving model to models/ResNet101-23-09-2021_14-22-13\\latest-ResNet101-23-09-2021_14-22-13.hdf5\n",
      "\n",
      "Epoch 00008: val_auroc did not improve from 0.66061\n",
      "Epoch 9/120\n",
      "817/817 [==============================] - 414s 506ms/step - loss: 0.1543 - auroc: 0.9844 - accuracy: 0.9437 - precision: 0.9437 - recall: 0.9437 - val_loss: 0.4136 - val_auroc: 0.9318 - val_accuracy: 0.8695 - val_precision: 0.8695 - val_recall: 0.8695\n",
      "\n",
      "Epoch 00009: saving model to models/ResNet101-23-09-2021_14-22-13\\latest-ResNet101-23-09-2021_14-22-13.hdf5\n",
      "\n",
      "Epoch 00009: val_auroc did not improve from 0.66061\n",
      "Epoch 10/120\n",
      "817/817 [==============================] - 414s 507ms/step - loss: 0.1347 - auroc: 0.9879 - accuracy: 0.9523 - precision: 0.9523 - recall: 0.9523 - val_loss: 0.3104 - val_auroc: 0.9531 - val_accuracy: 0.8946 - val_precision: 0.8946 - val_recall: 0.8946\n",
      "\n",
      "Epoch 00010: saving model to models/ResNet101-23-09-2021_14-22-13\\latest-ResNet101-23-09-2021_14-22-13.hdf5\n",
      "\n",
      "Epoch 00010: val_auroc did not improve from 0.66061\n",
      "Epoch 11/120\n",
      "817/817 [==============================] - 414s 506ms/step - loss: 0.1026 - auroc: 0.9928 - accuracy: 0.9623 - precision: 0.9623 - recall: 0.9623 - val_loss: 0.4818 - val_auroc: 0.9255 - val_accuracy: 0.8487 - val_precision: 0.8487 - val_recall: 0.8487\n",
      "\n",
      "Epoch 00011: saving model to models/ResNet101-23-09-2021_14-22-13\\latest-ResNet101-23-09-2021_14-22-13.hdf5\n",
      "\n",
      "Epoch 00011: val_auroc did not improve from 0.66061\n",
      "\n",
      "Epoch 00011: ReduceLROnPlateau reducing learning rate to 0.010000000149011612.\n",
      "Epoch 12/120\n",
      "817/817 [==============================] - 414s 506ms/step - loss: 0.1548 - auroc: 0.9829 - accuracy: 0.9493 - precision: 0.9493 - recall: 0.9493 - val_loss: 0.0787 - val_auroc: 0.9955 - val_accuracy: 0.9703 - val_precision: 0.9703 - val_recall: 0.9703\n",
      "\n",
      "Epoch 00012: saving model to models/ResNet101-23-09-2021_14-22-13\\latest-ResNet101-23-09-2021_14-22-13.hdf5\n",
      "\n",
      "Epoch 00012: val_auroc did not improve from 0.66061\n",
      "Epoch 13/120\n",
      "817/817 [==============================] - 414s 507ms/step - loss: 0.0522 - auroc: 0.9982 - accuracy: 0.9810 - precision: 0.9810 - recall: 0.9810 - val_loss: 0.0707 - val_auroc: 0.9963 - val_accuracy: 0.9767 - val_precision: 0.9767 - val_recall: 0.9767\n",
      "\n",
      "Epoch 00013: saving model to models/ResNet101-23-09-2021_14-22-13\\latest-ResNet101-23-09-2021_14-22-13.hdf5\n",
      "\n",
      "Epoch 00013: val_auroc did not improve from 0.66061\n",
      "Epoch 14/120\n",
      "817/817 [==============================] - 414s 507ms/step - loss: 0.0370 - auroc: 0.9989 - accuracy: 0.9884 - precision: 0.9884 - recall: 0.9884 - val_loss: 0.0742 - val_auroc: 0.9961 - val_accuracy: 0.9752 - val_precision: 0.9752 - val_recall: 0.9752\n",
      "\n",
      "Epoch 00014: saving model to models/ResNet101-23-09-2021_14-22-13\\latest-ResNet101-23-09-2021_14-22-13.hdf5\n",
      "\n",
      "Epoch 00014: val_auroc did not improve from 0.66061\n",
      "Epoch 15/120\n",
      "817/817 [==============================] - 414s 507ms/step - loss: 0.0363 - auroc: 0.9991 - accuracy: 0.9878 - precision: 0.9878 - recall: 0.9878 - val_loss: 0.0636 - val_auroc: 0.9967 - val_accuracy: 0.9789 - val_precision: 0.9789 - val_recall: 0.9789\n",
      "\n",
      "Epoch 00015: saving model to models/ResNet101-23-09-2021_14-22-13\\latest-ResNet101-23-09-2021_14-22-13.hdf5\n",
      "\n",
      "Epoch 00015: val_auroc did not improve from 0.66061\n",
      "Epoch 16/120\n",
      "817/817 [==============================] - 414s 507ms/step - loss: 0.0307 - auroc: 0.9991 - accuracy: 0.9894 - precision: 0.9894 - recall: 0.9894 - val_loss: 0.0841 - val_auroc: 0.9950 - val_accuracy: 0.9727 - val_precision: 0.9727 - val_recall: 0.9727\n",
      "\n",
      "Epoch 00016: saving model to models/ResNet101-23-09-2021_14-22-13\\latest-ResNet101-23-09-2021_14-22-13.hdf5\n",
      "\n",
      "Epoch 00016: val_auroc did not improve from 0.66061\n"
     ]
    },
    {
     "data": {
      "text/plain": [
       "<tensorflow.python.keras.callbacks.History at 0x19339c63880>"
      ]
     },
     "execution_count": 4,
     "metadata": {},
     "output_type": "execute_result"
    }
   ],
   "source": [
    "# Adapt Constants\n",
    "date = time.strftime(\"%d-%m-%Y_%H-%M-%S\")\n",
    "MODEL_NAME = f\"ResNet101-{date}\"\n",
    "os.makedirs(f'models/{MODEL_NAME}', exist_ok = True) \n",
    "INPUT_SHAPE = (299, 299, 3)\n",
    "NUM_CLASSES = 2\n",
    "INITIAL_EPOCH = 0\n",
    "NUM_EPOCHS = 120\n",
    "OPTIMIZER = optimizers.SGD(learning_rate=0.1, momentum=0.9, nesterov=False)\n",
    "BATCH_SIZE = 16\n",
    "\n",
    "LRS = ReduceLROnPlateau(monitor='val_auroc', factor=0.1, patience=10, verbose=1, mode='auto', min_delta=0.0001)\n",
    "ES = EarlyStopping(monitor='val_auroc', min_delta=0.0001, patience=15, verbose=0, mode='auto', baseline=None, restore_best_weights=False)\n",
    "\n",
    "\n",
    "MC = ModelCheckpoint(f'models/{MODEL_NAME}/latest-{MODEL_NAME}.hdf5', monitor='val_auroc', verbose=1, save_best_only=False, save_weights_only=False, mode='auto', save_freq=\"epoch\")\n",
    "MC_BEST = ModelCheckpoint(f'models/{MODEL_NAME}/best-{MODEL_NAME}.hdf5', monitor='val_auroc', verbose=1, save_best_only=True, save_weights_only=False, mode='auto', save_freq=\"epoch\")\n",
    "LOG = CSVLogger(f'models/{MODEL_NAME}/{MODEL_NAME}.log')\n",
    "TB = TensorBoard(log_dir=f'models/{MODEL_NAME}/logs')\n",
    "\n",
    "METRICS = [metrics.AUC(name='auroc', curve='ROC'),\n",
    "           metrics.CategoricalAccuracy(name='accuracy'),\n",
    "           metrics.Precision(name='precision'),\n",
    "           metrics.Recall(name='recall')\n",
    "           ]\n",
    "\n",
    "# Load data\n",
    "assert(backend.image_data_format()=='channels_last')\n",
    "\n",
    "# Model: preprocess, base model, top layer/classifier\n",
    "i = Input(shape=INPUT_SHAPE)\n",
    "x = applications.resnet.preprocess_input(i)\n",
    "\n",
    "\n",
    "base_model = applications.resnet.ResNet101(include_top=False, weights=\"imagenet\", input_shape=INPUT_SHAPE)\n",
    "x = base_model(x)\n",
    "\n",
    "x = GlobalAveragePooling2D(name='avg_pool')(x)\n",
    "o = Dense(NUM_CLASSES, activation='softmax', name=f'fc{NUM_CLASSES}')(x)\n",
    "\n",
    "model = models.Model(inputs=i, outputs=o)\n",
    "\n",
    "# Train Model\n",
    "if INITIAL_EPOCH != 0:\n",
    "\tmodel = models.load_model(f'models/{MODEL_NAME}/latest-{MODEL_NAME}.hdf5', compile=True)\n",
    "else:\n",
    "  model.compile(optimizer=OPTIMIZER, loss='categorical_crossentropy', metrics=METRICS)\n",
    "\n",
    "model.fit(x=x_train, y=y_train, batch_size=BATCH_SIZE, validation_split = 0.2, callbacks = [MC, MC_BEST, LRS, ES, LOG, TB], epochs = NUM_EPOCHS, initial_epoch = INITIAL_EPOCH)"
   ]
  },
  {
   "cell_type": "code",
   "execution_count": 5,
   "metadata": {},
   "outputs": [
    {
     "name": "stdout",
     "output_type": "stream",
     "text": [
      "173/173 [==============================] - 26s 142ms/step - loss: 0.1213 - auroc: 0.9900 - accuracy: 0.9620 - precision: 0.9620 - recall: 0.9620\n",
      "wrote \"ResNet101-23-09-2021_14-22-13 test_loss: 0.12126690149307251, test_auroc: 0.9900141358375549, test_acc: 0.9619978070259094, test_prec: 0.9619978070259094, test_rec: 0.9619978070259094, test_f1: 0.9619978070259094\n",
      "\" to results.txt \n"
     ]
    }
   ],
   "source": [
    "# Eval Model\n",
    "x_test = np.load(\"x_test.npy\")\n",
    "y_test = np.load(\"y_test.npy\")\n",
    "\n",
    "model = models.load_model(f'models/{MODEL_NAME}/latest-{MODEL_NAME}.hdf5', compile=True)\n",
    "out = model.evaluate(x=x_test, y=y_test, batch_size=BATCH_SIZE, verbose=1)\n",
    "\n",
    "# Save Result s\n",
    "with open(\"results.txt\",\"a+\") as f:\n",
    "  f.write(f\"{MODEL_NAME} test_loss: {out[0]}, test_auroc: {out[1]}, test_acc: {out[2]}, test_prec: {out[3]}, test_rec: {out[4]}, test_f1: {2* ((out[3]*out[4]) / (out[3]+out[4]))}\\n\")\n",
    "print(f\"wrote \\\"{MODEL_NAME} test_loss: {out[0]}, test_auroc: {out[1]}, test_acc: {out[2]}, test_prec: {out[3]}, test_rec: {out[4]}, test_f1: {2* ((out[3]*out[4]) / (out[3]+out[4]))}\\n\\\" to results.txt \")"
   ]
  },
  {
   "cell_type": "code",
   "execution_count": 6,
   "metadata": {
    "id": "5likFaHpF8iY"
   },
   "outputs": [
    {
     "data": {
      "image/png": "[encoded data removed]",
      "text/plain": [
       "<Figure size 432x288 with 1 Axes>"
      ]
     },
     "metadata": {
      "needs_background": "light"
     },
     "output_type": "display_data"
    }
   ],
   "source": [
    "#Plot ROC\n",
    "from sklearn.metrics import roc_curve, auc\n",
    "import matplotlib.pyplot as plt\n",
    "y_pred = np.argmax(model.predict(x_test), axis=1)\n",
    "y_true = np.argmax(y_test, axis=1)\n",
    "fpr, tpr, thresholds = roc_curve(y_true, y_pred)\n",
    "auc = auc(fpr, tpr)\n",
    "\n",
    "plt.figure()\n",
    "plt.plot([0, 1], [0, 1], 'k--')\n",
    "plt.plot(fpr, tpr, label='Keras-EfficientNetB3 (area = {:.3f})'.format(auc))\n",
    "#plt.xlabel('False positive rate')\n",
    "#plt.ylabel('True positive rate')\n",
    "plt.title('ROC curve')\n",
    "plt.legend(loc='best')\n",
    "plt.show()"
   ]
  },
  {
   "cell_type": "code",
   "execution_count": null,
   "metadata": {},
   "outputs": [],
   "source": []
  }
 ],
 "metadata": {
  "accelerator": "GPU",
  "colab": {
   "collapsed_sections": [],
   "name": "DenseNet-Pretrained.ipynb",
   "provenance": []
  },
  "kernelspec": {
   "display_name": "Python 3",
   "language": "python",
   "name": "python3"
  },
  "language_info": {
   "codemirror_mode": {
    "name": "ipython",
    "version": 3
   },
   "file_extension": ".py",
   "mimetype": "text/x-python",
   "name": "python",
   "nbconvert_exporter": "python",
   "pygments_lexer": "ipython3",
   "version": "3.8.8"
  }
 },
 "nbformat": 4,
 "nbformat_minor": 4
}

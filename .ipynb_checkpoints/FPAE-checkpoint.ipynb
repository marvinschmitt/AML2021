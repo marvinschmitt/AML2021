{
 "cells": [
  {
   "cell_type": "code",
   "execution_count": 1,
   "metadata": {
    "executionInfo": {
     "elapsed": 3479,
     "status": "ok",
     "timestamp": 1632234867166,
     "user": {
      "displayName": "Fabian Wolf",
      "photoUrl": "https://lh3.googleusercontent.com/a/default-user=s64",
      "userId": "09467462183684170769"
     },
     "user_tz": -120
    },
    "id": "GH0cgcCg7GZn"
   },
   "outputs": [],
   "source": [
    "import matplotlib.pyplot as plt\n",
    "import numpy as np\n",
    "import os\n",
    "import time\n",
    "\n",
    "import tensorflow as tf\n",
    "from tensorflow.keras import optimizers, models, Model, applications, metrics\n",
    "from tensorflow.keras.layers import Input, Conv2D, BatchNormalization, Flatten, Dense, Reshape, Concatenate, Conv2DTranspose, ReLU, GlobalAveragePooling2D\n",
    "from tensorflow.keras.callbacks import ModelCheckpoint, ReduceLROnPlateau, EarlyStopping, CSVLogger, TensorBoard\n",
    "from tensorflow.keras.layers.experimental.preprocessing import Normalization\n",
    "import tensorflow.keras.utils as utils"
   ]
  },
  {
   "cell_type": "code",
   "execution_count": null,
   "metadata": {
    "colab": {
     "base_uri": "https://localhost:8080/"
    },
    "executionInfo": {
     "elapsed": 23457,
     "status": "ok",
     "timestamp": 1632234890620,
     "user": {
      "displayName": "Fabian Wolf",
      "photoUrl": "https://lh3.googleusercontent.com/a/default-user=s64",
      "userId": "09467462183684170769"
     },
     "user_tz": -120
    },
    "id": "kEu5MrYx7HOR",
    "outputId": "26fbeaf8-e99b-420b-ebce-27bdd4acba57"
   },
   "outputs": [],
   "source": [
    "from google.colab import drive\n",
    "from google.colab import files \n",
    "\n",
    "\n",
    "drive.mount(\"/content/gdrive\")\n",
    "print(os.getcwd())\n",
    "os.chdir(\"/content/gdrive/My Drive/AML2021/AML2021\")\n",
    "print(os.getcwd())"
   ]
  },
  {
   "cell_type": "markdown",
   "metadata": {
    "id": "yOD8iMVs-VsO"
   },
   "source": [
    "# Feature Pyramid Auto Encoder"
   ]
  },
  {
   "cell_type": "code",
   "execution_count": 2,
   "metadata": {
    "executionInfo": {
     "elapsed": 877,
     "status": "ok",
     "timestamp": 1632234187694,
     "user": {
      "displayName": "Fabian Wolf",
      "photoUrl": "https://lh3.googleusercontent.com/a/default-user=s64",
      "userId": "09467462183684170769"
     },
     "user_tz": -120
    },
    "id": "cuK9mGLf7HQ5"
   },
   "outputs": [],
   "source": [
    "INITIAL_EPOCH = 0\n",
    "NUM_EPOCHS = 120\n",
    "BATCH_SIZE = 16\n",
    "INPUT_SHAPE = (299,299,1)\n",
    "CLASSES = 2\n",
    "VAL_SPLIT=0.2\n",
    "os.makedirs('models/FPAE', exist_ok = True) \n",
    "os.makedirs('models/FPAE/imgs', exist_ok = True)"
   ]
  },
  {
   "cell_type": "markdown",
   "metadata": {
    "id": "tVcqMQV-_l2B"
   },
   "source": [
    "## Model"
   ]
  },
  {
   "cell_type": "code",
   "execution_count": 3,
   "metadata": {
    "executionInfo": {
     "elapsed": 3,
     "status": "ok",
     "timestamp": 1632234190877,
     "user": {
      "displayName": "Fabian Wolf",
      "photoUrl": "https://lh3.googleusercontent.com/a/default-user=s64",
      "userId": "09467462183684170769"
     },
     "user_tz": -120
    },
    "id": "lv69H_Cj65tg"
   },
   "outputs": [],
   "source": [
    "# Encoder, Decoder from https://www.medrxiv.org/content/10.1101/2020.04.14.20065722v1.full.pdf\n",
    "def blockT(i, lateral_i, filter, kernel, strides=(2,2), padding='same'):\n",
    "  x = Conv2DTranspose(filter, kernel, strides=strides, padding=padding)(i)\n",
    "  x = BatchNormalization()(x)\n",
    "  x = ReLU()(x)\n",
    "\n",
    "  lateral_connection = Conv2D(filter, (1,1), strides=(1,1), padding='same')(lateral_i)\n",
    "  x = Concatenate(axis=-1)([x, lateral_connection])\n",
    "  return x\n",
    "\n",
    "def block(i, filter, kernel, strides=(2,2), padding='same'):\n",
    "  x = Conv2D(filter, kernel, strides=strides, padding=padding)(i)\n",
    "  x = BatchNormalization()(x)\n",
    "  x = ReLU()(x)\n",
    "  return x\n",
    "\n",
    "def create_AE(name):\n",
    "  #encoder\n",
    "  x = Input(shape=INPUT_SHAPE)\n",
    "  l1 = block(x, 64, (4,4), strides=(2,2), padding='valid')\n",
    "  l2 = block(l1, 64, (3,3), strides=(1,1), padding='same')\n",
    "  l3 = block(l2, 128, (3,3), strides=(2,2), padding='same')\n",
    "  l4 = block(l3, 128, (3,3), strides=(1,1), padding='same')\n",
    "  l5 = block(l4, 256, (3,3), strides=(2,2), padding='valid')\n",
    "  l6 = block(l5, 256, (3,3), strides=(1,1), padding='same')\n",
    "  l7 = block(l6, 512, (3,3), strides=(2,2), padding='same')\n",
    "  l = Flatten()(l7)\n",
    "  z = Dense(81)(l) #LATENT_DIM is 9*9=81\n",
    "\n",
    "  #decoder\n",
    "  l = Reshape((9,9,1))(z)\n",
    "  l = blockT(l, l7, 256, (3,3), strides=(2,2), padding='same')#18x18x512\n",
    "  l = block(l, 256, (3,3), strides=(1,1), padding='same')\n",
    "  l = blockT(l, l5, 128, (3,3), strides=(2,2), padding='same')#36x36x256\n",
    "  l = blockT(l, l3, 64, (4,4), strides=(2,2), padding='valid')#74x74x128\n",
    "  l = block(l, 64, (3,3), strides=(1,1), padding='same')\n",
    "  l = blockT(l, l1, 32, (3,3), strides=(2,2), padding='same')#148x148x64\n",
    "  x_recon = Conv2DTranspose(1, (5,5), strides=(2,2), padding='valid')(l)#299x299x1\n",
    "  \n",
    "  return Model(x,x_recon, name=name)"
   ]
  },
  {
   "cell_type": "markdown",
   "metadata": {
    "id": "FxiMkGEJ_oa2"
   },
   "source": [
    "## Training"
   ]
  },
  {
   "cell_type": "code",
   "execution_count": 4,
   "metadata": {
    "colab": {
     "base_uri": "https://localhost:8080/"
    },
    "executionInfo": {
     "elapsed": 113814,
     "status": "ok",
     "timestamp": 1632234429744,
     "user": {
      "displayName": "Fabian Wolf",
      "photoUrl": "https://lh3.googleusercontent.com/a/default-user=s64",
      "userId": "09467462183684170769"
     },
     "user_tz": -120
    },
    "id": "O7Qlfc5V8N9-",
    "outputId": "2be8f140-6f35-42f1-af99-689d35cc5837"
   },
   "outputs": [
    {
     "name": "stdout",
     "output_type": "stream",
     "text": [
      "(16324, 299, 299, 1) (16324, 2)\n"
     ]
    }
   ],
   "source": [
    "# load data\n",
    "x_train = np.load(\"x_train.npy\")[:,:,:,0:1]\n",
    "y_train = np.load(\"y_train.npy\")\n",
    "\n",
    "x_cov_idx = np.where(y_train[:,0]==1)[0]\n",
    "x_normal_idx = np.where(y_train[:,1]==1)[0]\n",
    "\n",
    "print(x_train.shape, y_train.shape)"
   ]
  },
  {
   "cell_type": "code",
   "execution_count": null,
   "metadata": {
    "id": "9ysrMa6R_rqB"
   },
   "outputs": [],
   "source": [
    "# Train FPAE_Normal\n",
    "OPTIMIZER = optimizers.Adam(learning_rate=1e-4)\n",
    "NAME = \"FPAE_Normal\"\n",
    "LRS = ReduceLROnPlateau(monitor='val_loss', factor=0.1, patience=10, verbose=1, mode='auto', min_delta=0.0001)\n",
    "ES = EarlyStopping(monitor='val_loss', min_delta=0.0001, patience=15, verbose=0, mode='auto', baseline=None, restore_best_weights=False)\n",
    "\n",
    "MC_BEST = ModelCheckpoint(f'models/FPAE/best-{NAME}.hdf5', monitor='val_loss', verbose=1, save_best_only=True, save_weights_only=False, mode='auto', save_freq=\"epoch\")\n",
    "LOG = CSVLogger(f'models/FPAE/{NAME}.log')\n",
    "TB = TensorBoard(log_dir=f'models/FPAE/tb-logs')\n",
    "\n",
    "model = create_AE(NAME)\n",
    "model.compile(optimizer=OPTIMIZER, loss='mean_squared_error')\n",
    "model.fit(x=x_train[x_normal_idx], y=x_train[x_normal_idx], batch_size=BATCH_SIZE, validation_split = VAL_SPLIT, callbacks = [MC_BEST, LRS, ES, LOG, TB], epochs = NUM_EPOCHS, initial_epoch = INITIAL_EPOCH)"
   ]
  },
  {
   "cell_type": "code",
   "execution_count": null,
   "metadata": {
    "id": "OBQfu2rF91Fa"
   },
   "outputs": [],
   "source": [
    "# Train FPAE_Cov\n",
    "OPTIMIZER = optimizers.Adam(learning_rate=1e-4)\n",
    "NAME = \"FPAE_Cov\"\n",
    "LRS = ReduceLROnPlateau(monitor='val_loss', factor=0.1, patience=10, verbose=1, mode='auto', min_delta=0.0001)\n",
    "ES = EarlyStopping(monitor='val_loss', min_delta=0.0001, patience=15, verbose=0, mode='auto', baseline=None, restore_best_weights=False)\n",
    "\n",
    "MC_BEST = ModelCheckpoint(f'models/FPAE/best-{NAME}.hdf5', monitor='val_loss', verbose=1, save_best_only=True, save_weights_only=False, mode='auto', save_freq=\"epoch\")\n",
    "LOG = CSVLogger(f'models/FPAE/{NAME}.log')\n",
    "TB = TensorBoard(log_dir=f'models/FPAE/tb-logs')\n",
    "\n",
    "# Train FPAE_Cov\n",
    "model = create_AE(NAME)\n",
    "model.compile(optimizer=OPTIMIZER, loss='mean_squared_error')\n",
    "model.fit(x=x_train[x_cov_idx], y=x_train[x_cov_idx], batch_size=BATCH_SIZE, validation_split = VAL_SPLIT, callbacks = [MC_BEST, LRS, ES, LOG, TB], epochs = NUM_EPOCHS, initial_epoch = INITIAL_EPOCH)"
   ]
  },
  {
   "cell_type": "markdown",
   "metadata": {
    "id": "jQKQves1-aJ4"
   },
   "source": [
    "# Classifier"
   ]
  },
  {
   "cell_type": "code",
   "execution_count": 5,
   "metadata": {
    "colab": {
     "base_uri": "https://localhost:8080/"
    },
    "executionInfo": {
     "elapsed": 95176,
     "status": "ok",
     "timestamp": 1632234987634,
     "user": {
      "displayName": "Fabian Wolf",
      "photoUrl": "https://lh3.googleusercontent.com/a/default-user=s64",
      "userId": "09467462183684170769"
     },
     "user_tz": -120
    },
    "id": "O9YhNl8pxUVq",
    "outputId": "21a097d4-ecab-49c3-9486-7e1d815dd33f"
   },
   "outputs": [
    {
     "name": "stdout",
     "output_type": "stream",
     "text": [
      "(16324, 299, 299, 1) (16324, 2)\n"
     ]
    }
   ],
   "source": [
    "# load data\n",
    "x_train = np.load(\"x_train.npy\")[:,:,:,0:1]\n",
    "y_train = np.load(\"y_train.npy\")\n",
    "\n",
    "print(x_train.shape, y_train.shape)"
   ]
  },
  {
   "cell_type": "code",
   "execution_count": 9,
   "metadata": {
    "executionInfo": {
     "elapsed": 322,
     "status": "ok",
     "timestamp": 1632235101340,
     "user": {
      "displayName": "Fabian Wolf",
      "photoUrl": "https://lh3.googleusercontent.com/a/default-user=s64",
      "userId": "09467462183684170769"
     },
     "user_tz": -120
    },
    "id": "tNCDk7bV-dNe"
   },
   "outputs": [],
   "source": [
    "INITIAL_EPOCH = 0\n",
    "NUM_EPOCHS = 120\n",
    "BATCH_SIZE = 32\n",
    "INPUT_SHAPE = (299,299,1)\n",
    "CLASSES = 2\n",
    "OPTIMIZER = optimizers.SGD(learning_rate=0.1, momentum=0.9, nesterov=False)\n",
    "NAME = \"CLS\"\n",
    "LRS = ReduceLROnPlateau(monitor='val_auroc', factor=0.1, patience=10, verbose=1, mode='auto', min_delta=0.0001)\n",
    "ES = EarlyStopping(monitor='val_auroc', min_delta=0.0001, patience=15, verbose=0, mode='auto', baseline=None, restore_best_weights=False)\n",
    "\n",
    "MC_BEST = ModelCheckpoint(f'models/FPAE/best-{NAME}.hdf5', monitor='val_auroc', verbose=1, save_best_only=True, save_weights_only=False, mode='auto', save_freq=\"epoch\")\n",
    "LOG = CSVLogger(f'models/FPAE/{NAME}.log')\n",
    "TB = TensorBoard(log_dir=f'models/FPAE/{NAME}-tb-logs')\n",
    "\n",
    "METRICS = [metrics.AUC(name='auroc', curve='ROC'),\n",
    "           metrics.CategoricalAccuracy(name='accuracy'),\n",
    "           metrics.Precision(name='precision'),\n",
    "           metrics.Recall(name='recall')\n",
    "           ]"
   ]
  },
  {
   "cell_type": "code",
   "execution_count": 7,
   "metadata": {
    "executionInfo": {
     "elapsed": 315,
     "status": "ok",
     "timestamp": 1632235064219,
     "user": {
      "displayName": "Fabian Wolf",
      "photoUrl": "https://lh3.googleusercontent.com/a/default-user=s64",
      "userId": "09467462183684170769"
     },
     "user_tz": -120
    },
    "id": "ulHuuv3--3aw"
   },
   "outputs": [],
   "source": [
    "def create_cls(name):\n",
    "  FPAE_norm = models.load_model(\"models/FPAE/best-FPAE_Normal.hdf5\")\n",
    "  FPAE_cov = models.load_model(\"models/FPAE/best-FPAE_Cov.hdf5\")\n",
    "\n",
    "  FPAE_norm.trainable = False\n",
    "  FPAE_cov.trainable = False\n",
    "\n",
    "  x = Input(shape=INPUT_SHAPE)# shape should be None, 299, 299, 1 for greyscale\n",
    "  x_recon_cov = FPAE_cov(x)\n",
    "  x_recon_normal = FPAE_norm(x)\n",
    "\n",
    "  x_0 = tf.abs(x-x_recon_cov)\n",
    "  x_1 = tf.abs(x-x_recon_normal)\n",
    "  x_2 = tf.abs(2*x-x_recon_normal)\n",
    "  l = Concatenate(axis=-1)([x_0,x_1,x_2])# now shape should be None, 299, 299, 3\n",
    "\n",
    "  l = applications.resnet.preprocess_input(l)\n",
    "  base_model = applications.ResNet50(include_top=False, weights=\"imagenet\", input_shape=(299,299,3))\n",
    "  l = base_model(l)\n",
    "  l = GlobalAveragePooling2D(name='avg_pool')(l)\n",
    "  y = Dense(CLASSES, activation='softmax', name=f'fc{CLASSES}')(l)\n",
    "  return Model(x,y, name=name)"
   ]
  },
  {
   "cell_type": "code",
   "execution_count": 6,
   "metadata": {},
   "outputs": [
    {
     "name": "stdout",
     "output_type": "stream",
     "text": [
      "                       y_train: 255.2 KiB\n",
      "                          _iii:  1.7 KiB\n",
      "                           _i3:  1.7 KiB\n",
      "                         Model:  1.0 KiB\n",
      "                        Conv2D:  1.0 KiB\n",
      "            BatchNormalization:  1.0 KiB\n",
      "                       Flatten:  1.0 KiB\n",
      "                         Dense:  1.0 KiB\n",
      "                       Reshape:  1.0 KiB\n",
      "                   Concatenate:  1.0 KiB\n"
     ]
    }
   ],
   "source": [
    "import sys\n",
    "def sizeof_fmt(num, suffix='B'):\n",
    "    ''' by Fred Cirera,  https://stackoverflow.com/a/1094933/1870254, modified'''\n",
    "    for unit in ['','Ki','Mi','Gi','Ti','Pi','Ei','Zi']:\n",
    "        if abs(num) < 1024.0:\n",
    "            return \"%3.1f %s%s\" % (num, unit, suffix)\n",
    "        num /= 1024.0\n",
    "    return \"%.1f %s%s\" % (num, 'Yi', suffix)\n",
    "\n",
    "for name, size in sorted(((name, sys.getsizeof(value)) for name, value in locals().items()),\n",
    "                         key= lambda x: -x[1])[:10]:\n",
    "    print(\"{:>30}: {:>8}\".format(name, sizeof_fmt(size)))"
   ]
  },
  {
   "cell_type": "code",
   "execution_count": 10,
   "metadata": {
    "colab": {
     "base_uri": "https://localhost:8080/"
    },
    "id": "Yv10hYENEQI-",
    "outputId": "f02a48d8-a98d-4cec-843f-1dee9bcef595"
   },
   "outputs": [
    {
     "name": "stdout",
     "output_type": "stream",
     "text": [
      "Epoch 1/120\n",
      "1633/1633 [==============================] - 420s 250ms/step - loss: 1.7010 - auroc: 0.5556 - accuracy: 0.5290 - precision: 0.5290 - recall: 0.5290 - val_loss: 0.6475 - val_auroc: 0.5743 - val_accuracy: 0.5219 - val_precision: 0.5219 - val_recall: 0.5219\n",
      "\n",
      "Epoch 00001: val_auroc improved from inf to 0.57428, saving model to models/FPAE\\best-CLS.hdf5\n",
      "Epoch 2/120\n",
      "1633/1633 [==============================] - 408s 250ms/step - loss: 0.6677 - auroc: 0.6034 - accuracy: 0.5683 - precision: 0.5683 - recall: 0.5683 - val_loss: 1.5082 - val_auroc: 0.4709 - val_accuracy: 0.4459 - val_precision: 0.4459 - val_recall: 0.4459\n",
      "\n",
      "Epoch 00002: val_auroc improved from 0.57428 to 0.47088, saving model to models/FPAE\\best-CLS.hdf5\n",
      "Epoch 3/120\n",
      "1633/1633 [==============================] - 402s 246ms/step - loss: 0.6628 - auroc: 0.6098 - accuracy: 0.5687 - precision: 0.5687 - recall: 0.5687 - val_loss: 0.6407 - val_auroc: 0.5962 - val_accuracy: 0.5311 - val_precision: 0.5311 - val_recall: 0.5311\n",
      "\n",
      "Epoch 00003: val_auroc did not improve from 0.47088\n",
      "Epoch 4/120\n",
      "1633/1633 [==============================] - 403s 247ms/step - loss: 0.6567 - auroc: 0.6387 - accuracy: 0.5935 - precision: 0.5935 - recall: 0.5935 - val_loss: 0.8372 - val_auroc: 0.6289 - val_accuracy: 0.5871 - val_precision: 0.5871 - val_recall: 0.5871\n",
      "\n",
      "Epoch 00004: val_auroc did not improve from 0.47088\n",
      "Epoch 5/120\n",
      "1633/1633 [==============================] - 403s 247ms/step - loss: 0.6315 - auroc: 0.6977 - accuracy: 0.6327 - precision: 0.6327 - recall: 0.6327 - val_loss: 0.5552 - val_auroc: 0.7913 - val_accuracy: 0.7394 - val_precision: 0.7394 - val_recall: 0.7394\n",
      "\n",
      "Epoch 00005: val_auroc did not improve from 0.47088\n",
      "Epoch 6/120\n",
      "1633/1633 [==============================] - 403s 247ms/step - loss: 0.6107 - auroc: 0.7289 - accuracy: 0.6732 - precision: 0.6732 - recall: 0.6732 - val_loss: 0.6982 - val_auroc: 0.6150 - val_accuracy: 0.5317 - val_precision: 0.5317 - val_recall: 0.5317\n",
      "\n",
      "Epoch 00006: val_auroc did not improve from 0.47088\n",
      "Epoch 7/120\n",
      "1633/1633 [==============================] - 403s 247ms/step - loss: 0.5287 - auroc: 0.8123 - accuracy: 0.7482 - precision: 0.7482 - recall: 0.7482 - val_loss: 0.9376 - val_auroc: 0.6135 - val_accuracy: 0.5666 - val_precision: 0.5666 - val_recall: 0.5666\n",
      "\n",
      "Epoch 00007: val_auroc did not improve from 0.47088\n",
      "Epoch 8/120\n",
      "1633/1633 [==============================] - 403s 247ms/step - loss: 0.4741 - auroc: 0.8547 - accuracy: 0.7758 - precision: 0.7758 - recall: 0.7758 - val_loss: 0.5643 - val_auroc: 0.7968 - val_accuracy: 0.7280 - val_precision: 0.7280 - val_recall: 0.7280\n",
      "\n",
      "Epoch 00008: val_auroc did not improve from 0.47088\n",
      "Epoch 9/120\n",
      "1633/1633 [==============================] - 403s 247ms/step - loss: 0.4077 - auroc: 0.8961 - accuracy: 0.8159 - precision: 0.8159 - recall: 0.8159 - val_loss: 0.5068 - val_auroc: 0.8634 - val_accuracy: 0.7776 - val_precision: 0.7776 - val_recall: 0.7776\n",
      "\n",
      "Epoch 00009: val_auroc did not improve from 0.47088\n",
      "Epoch 10/120\n",
      "1633/1633 [==============================] - 403s 247ms/step - loss: 0.3609 - auroc: 0.9202 - accuracy: 0.8447 - precision: 0.8447 - recall: 0.8447 - val_loss: 1.7787 - val_auroc: 0.7027 - val_accuracy: 0.6683 - val_precision: 0.6683 - val_recall: 0.6683\n",
      "\n",
      "Epoch 00010: val_auroc did not improve from 0.47088\n",
      "Epoch 11/120\n",
      "1633/1633 [==============================] - 403s 247ms/step - loss: 0.2813 - auroc: 0.9519 - accuracy: 0.8890 - precision: 0.8890 - recall: 0.8890 - val_loss: 0.5467 - val_auroc: 0.8151 - val_accuracy: 0.7130 - val_precision: 0.7130 - val_recall: 0.7130\n",
      "\n",
      "Epoch 00011: val_auroc did not improve from 0.47088\n",
      "Epoch 12/120\n",
      "1633/1633 [==============================] - 403s 247ms/step - loss: 0.2242 - auroc: 0.9689 - accuracy: 0.9109 - precision: 0.9109 - recall: 0.9109 - val_loss: 0.4596 - val_auroc: 0.9171 - val_accuracy: 0.8478 - val_precision: 0.8478 - val_recall: 0.8478\n",
      "\n",
      "Epoch 00012: val_auroc did not improve from 0.47088\n",
      "\n",
      "Epoch 00012: ReduceLROnPlateau reducing learning rate to 0.010000000149011612.\n",
      "Epoch 13/120\n",
      "1633/1633 [==============================] - 403s 247ms/step - loss: 0.1493 - auroc: 0.9854 - accuracy: 0.9453 - precision: 0.9453 - recall: 0.9453 - val_loss: 0.1254 - val_auroc: 0.9895 - val_accuracy: 0.9556 - val_precision: 0.9556 - val_recall: 0.9556\n",
      "\n",
      "Epoch 00013: val_auroc did not improve from 0.47088\n",
      "Epoch 14/120\n",
      "1633/1633 [==============================] - 403s 247ms/step - loss: 0.1017 - auroc: 0.9933 - accuracy: 0.9634 - precision: 0.9634 - recall: 0.9634 - val_loss: 0.1391 - val_auroc: 0.9863 - val_accuracy: 0.9531 - val_precision: 0.9531 - val_recall: 0.9531\n",
      "\n",
      "Epoch 00014: val_auroc did not improve from 0.47088\n",
      "Epoch 15/120\n",
      "1633/1633 [==============================] - 403s 247ms/step - loss: 0.0936 - auroc: 0.9944 - accuracy: 0.9667 - precision: 0.9667 - recall: 0.9667 - val_loss: 0.1239 - val_auroc: 0.9897 - val_accuracy: 0.9568 - val_precision: 0.9568 - val_recall: 0.9568\n",
      "\n",
      "Epoch 00015: val_auroc did not improve from 0.47088\n",
      "Epoch 16/120\n",
      "1633/1633 [==============================] - 403s 247ms/step - loss: 0.0842 - auroc: 0.9954 - accuracy: 0.9694 - precision: 0.9694 - recall: 0.9694 - val_loss: 0.1093 - val_auroc: 0.9915 - val_accuracy: 0.9639 - val_precision: 0.9639 - val_recall: 0.9639\n",
      "\n",
      "Epoch 00016: val_auroc did not improve from 0.47088\n",
      "Epoch 17/120\n",
      "1633/1633 [==============================] - 403s 247ms/step - loss: 0.0755 - auroc: 0.9964 - accuracy: 0.9723 - precision: 0.9723 - recall: 0.9723 - val_loss: 0.1149 - val_auroc: 0.9906 - val_accuracy: 0.9605 - val_precision: 0.9605 - val_recall: 0.9605\n",
      "\n",
      "Epoch 00017: val_auroc did not improve from 0.47088\n"
     ]
    },
    {
     "data": {
      "text/plain": [
       "<tensorflow.python.keras.callbacks.History at 0x2fc38117f70>"
      ]
     },
     "execution_count": 10,
     "metadata": {},
     "output_type": "execute_result"
    }
   ],
   "source": [
    "model = create_cls(NAME)\n",
    "model.compile(optimizer=OPTIMIZER, loss='categorical_crossentropy', metrics=METRICS)\n",
    "model.fit(x=x_train, y=y_train, batch_size=8, validation_split = 0.2, callbacks = [MC_BEST, LRS, ES, LOG, TB], epochs = NUM_EPOCHS, initial_epoch = INITIAL_EPOCH)"
   ]
  },
  {
   "cell_type": "code",
   "execution_count": null,
   "metadata": {},
   "outputs": [],
   "source": []
  },
  {
   "cell_type": "code",
   "execution_count": 12,
   "metadata": {
    "id": "RKz4-ZZ3EXZL"
   },
   "outputs": [
    {
     "name": "stdout",
     "output_type": "stream",
     "text": [
      "87/87 [==============================] - 28s 302ms/step - loss: 2.1499 - auroc: 0.4175 - accuracy: 0.4879 - precision: 0.4879 - recall: 0.4879\n",
      "wrote \"CLS test_loss: 2.149932384490967, test_auroc: 0.41746461391448975, test_acc: 0.48787549138069153, test_prec: 0.48787549138069153, test_rec: 0.48787549138069153, test_f1: 0.48787549138069153\n",
      "\" to results.txt \n"
     ]
    }
   ],
   "source": [
    "MODEL_NAME= \"CLS\"\n",
    "\n",
    "# Eval Model\n",
    "x_test = np.load(\"x_test.npy\")[:,:,:,0:1]\n",
    "y_test = np.load(\"y_test.npy\")\n",
    "\n",
    "model = models.load_model(f'models/FPAE/best-{NAME}.hdf5', compile=True)\n",
    "out = model.evaluate(x=x_test, y=y_test, batch_size=BATCH_SIZE, verbose=1)\n",
    "\n",
    "# Save Results\n",
    "with open(\"results.txt\",\"a+\") as f:\n",
    "  f.write(f\"{MODEL_NAME} test_loss: {out[0]}, test_auroc: {out[1]}, test_acc: {out[2]}, test_prec: {out[3]}, test_rec: {out[4]}, test_f1: {2* ((out[3]*out[4]) / (out[3]+out[4]))}\\n\")\n",
    "print(f\"wrote \\\"{MODEL_NAME} test_loss: {out[0]}, test_auroc: {out[1]}, test_acc: {out[2]}, test_prec: {out[3]}, test_rec: {out[4]}, test_f1: {2* ((out[3]*out[4]) / (out[3]+out[4]))}\\n\\\" to results.txt \")"
   ]
  },
  {
   "cell_type": "code",
   "execution_count": null,
   "metadata": {},
   "outputs": [],
   "source": []
  }
 ],
 "metadata": {
  "accelerator": "GPU",
  "colab": {
   "authorship_tag": "ABX9TyPylLPQemfnxSd4MqzyspCD",
   "collapsed_sections": [
    "yOD8iMVs-VsO",
    "tVcqMQV-_l2B"
   ],
   "name": "FPAE.ipynb",
   "provenance": []
  },
  "kernelspec": {
   "display_name": "Python 3",
   "language": "python",
   "name": "python3"
  },
  "language_info": {
   "codemirror_mode": {
    "name": "ipython",
    "version": 3
   },
   "file_extension": ".py",
   "mimetype": "text/x-python",
   "name": "python",
   "nbconvert_exporter": "python",
   "pygments_lexer": "ipython3",
   "version": "3.8.8"
  }
 },
 "nbformat": 4,
 "nbformat_minor": 4
}

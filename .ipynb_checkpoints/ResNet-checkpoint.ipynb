{
 "cells": [
  {
   "cell_type": "code",
   "execution_count": null,
   "metadata": {
    "colab": {
     "base_uri": "https://localhost:8080/"
    },
    "executionInfo": {
     "elapsed": 15653,
     "status": "ok",
     "timestamp": 1631545415208,
     "user": {
      "displayName": "Fabian Wolf",
      "photoUrl": "https://lh3.googleusercontent.com/a/default-user=s64",
      "userId": "09467462183684170769"
     },
     "user_tz": -120
    },
    "id": "ckl7AGWJVIIQ",
    "outputId": "98784f02-a6d4-4efe-d860-6eb664aa3809"
   },
   "outputs": [],
   "source": [
    "from google.colab import drive\n",
    "from google.colab import files \n",
    "\n",
    "\n",
    "drive.mount(\"/content/gdrive\")\n",
    "print(os.getcwd())\n",
    "os.chdir(\"/content/gdrive/My Drive/AML2021\")\n",
    "print(os.getcwd())"
   ]
  },
  {
   "cell_type": "code",
   "execution_count": 1,
   "metadata": {
    "id": "bx-RnsY-zwe1"
   },
   "outputs": [],
   "source": [
    "import matplotlib.pyplot as plt\n",
    "import numpy as np\n",
    "import time\n",
    "import os\n",
    "\n",
    "import tensorflow as tf\n",
    "\n",
    "from tensorflow.keras import backend, optimizers, models, applications, metrics\n",
    "from tensorflow.keras.layers import GlobalAveragePooling2D, Dense, Input\n",
    "from tensorflow.keras.callbacks import ModelCheckpoint, ReduceLROnPlateau, EarlyStopping, CSVLogger, TensorBoard\n",
    "import tensorflow.keras.utils as utils"
   ]
  },
  {
   "cell_type": "code",
   "execution_count": 2,
   "metadata": {},
   "outputs": [
    {
     "data": {
      "text/plain": [
       "[PhysicalDevice(name='/physical_device:GPU:0', device_type='GPU')]"
      ]
     },
     "execution_count": 2,
     "metadata": {},
     "output_type": "execute_result"
    }
   ],
   "source": [
    "tf.config.list_physical_devices('GPU') "
   ]
  },
  {
   "cell_type": "code",
   "execution_count": 3,
   "metadata": {
    "colab": {
     "base_uri": "https://localhost:8080/"
    },
    "executionInfo": {
     "elapsed": 85508,
     "status": "ok",
     "timestamp": 1631545503534,
     "user": {
      "displayName": "Fabian Wolf",
      "photoUrl": "https://lh3.googleusercontent.com/a/default-user=s64",
      "userId": "09467462183684170769"
     },
     "user_tz": -120
    },
    "id": "X1NJt03q4v2r",
    "outputId": "9d089700-31bb-43e3-e4f0-d19bbfe7b99b"
   },
   "outputs": [
    {
     "name": "stdout",
     "output_type": "stream",
     "text": [
      "(16324, 299, 299, 3) (16324, 2)\n"
     ]
    }
   ],
   "source": [
    "x_train = np.load(\"x_train.npy\")\n",
    "y_train = np.load(\"y_train.npy\")\n",
    "\n",
    "print(x_train.shape, y_train.shape)"
   ]
  },
  {
   "cell_type": "code",
   "execution_count": 4,
   "metadata": {
    "colab": {
     "base_uri": "https://localhost:8080/",
     "height": 784
    },
    "executionInfo": {
     "elapsed": 110051,
     "status": "error",
     "timestamp": 1631545613581,
     "user": {
      "displayName": "Fabian Wolf",
      "photoUrl": "https://lh3.googleusercontent.com/a/default-user=s64",
      "userId": "09467462183684170769"
     },
     "user_tz": -120
    },
    "id": "-Y81Fa8KeSTH",
    "outputId": "c77ebe8b-a712-4f2a-ebdd-1f91d9faacb6"
   },
   "outputs": [
    {
     "name": "stdout",
     "output_type": "stream",
     "text": [
      "Epoch 1/120\n",
      "817/817 [==============================] - 443s 517ms/step - loss: 2.3870 - auroc: 0.6853 - accuracy: 0.6479 - precision: 0.6479 - recall: 0.6479 - val_loss: 0.5978 - val_auroc: 0.8378 - val_accuracy: 0.7828 - val_precision: 0.7828 - val_recall: 0.7828\n",
      "\n",
      "Epoch 00001: saving model to models/ResNet101-NoPretraining-22-09-2021_22-38-20\\latest-ResNet101-NoPretraining-22-09-2021_22-38-20.hdf5\n",
      "\n",
      "Epoch 00001: val_auroc improved from inf to 0.83781, saving model to models/ResNet101-NoPretraining-22-09-2021_22-38-20\\best-ResNet101-NoPretraining-22-09-2021_22-38-20.hdf5\n",
      "Epoch 2/120\n",
      "817/817 [==============================] - 412s 505ms/step - loss: 0.4593 - auroc: 0.8730 - accuracy: 0.8055 - precision: 0.8055 - recall: 0.8055 - val_loss: 0.3367 - val_auroc: 0.9318 - val_accuracy: 0.8594 - val_precision: 0.8594 - val_recall: 0.8594\n",
      "\n",
      "Epoch 00002: saving model to models/ResNet101-NoPretraining-22-09-2021_22-38-20\\latest-ResNet101-NoPretraining-22-09-2021_22-38-20.hdf5\n",
      "\n",
      "Epoch 00002: val_auroc did not improve from 0.83781\n",
      "Epoch 3/120\n",
      "817/817 [==============================] - 412s 505ms/step - loss: 0.3383 - auroc: 0.9297 - accuracy: 0.8701 - precision: 0.8701 - recall: 0.8701 - val_loss: 0.3300 - val_auroc: 0.9429 - val_accuracy: 0.8928 - val_precision: 0.8928 - val_recall: 0.8928\n",
      "\n",
      "Epoch 00003: saving model to models/ResNet101-NoPretraining-22-09-2021_22-38-20\\latest-ResNet101-NoPretraining-22-09-2021_22-38-20.hdf5\n",
      "\n",
      "Epoch 00003: val_auroc did not improve from 0.83781\n",
      "Epoch 4/120\n",
      "817/817 [==============================] - 414s 507ms/step - loss: 0.2647 - auroc: 0.9571 - accuracy: 0.9015 - precision: 0.9015 - recall: 0.9015 - val_loss: 0.4292 - val_auroc: 0.9029 - val_accuracy: 0.8055 - val_precision: 0.8055 - val_recall: 0.8055\n",
      "\n",
      "Epoch 00004: saving model to models/ResNet101-NoPretraining-22-09-2021_22-38-20\\latest-ResNet101-NoPretraining-22-09-2021_22-38-20.hdf5\n",
      "\n",
      "Epoch 00004: val_auroc did not improve from 0.83781\n",
      "Epoch 5/120\n",
      "817/817 [==============================] - 412s 505ms/step - loss: 0.2265 - auroc: 0.9676 - accuracy: 0.9157 - precision: 0.9157 - recall: 0.9157 - val_loss: 0.2397 - val_auroc: 0.9650 - val_accuracy: 0.9158 - val_precision: 0.9158 - val_recall: 0.9158\n",
      "\n",
      "Epoch 00005: saving model to models/ResNet101-NoPretraining-22-09-2021_22-38-20\\latest-ResNet101-NoPretraining-22-09-2021_22-38-20.hdf5\n",
      "\n",
      "Epoch 00005: val_auroc did not improve from 0.83781\n",
      "Epoch 6/120\n",
      "817/817 [==============================] - 412s 505ms/step - loss: 0.1979 - auroc: 0.9753 - accuracy: 0.9268 - precision: 0.9268 - recall: 0.9268 - val_loss: 0.2240 - val_auroc: 0.9715 - val_accuracy: 0.9283 - val_precision: 0.9283 - val_recall: 0.9283\n",
      "\n",
      "Epoch 00006: saving model to models/ResNet101-NoPretraining-22-09-2021_22-38-20\\latest-ResNet101-NoPretraining-22-09-2021_22-38-20.hdf5\n",
      "\n",
      "Epoch 00006: val_auroc did not improve from 0.83781\n",
      "Epoch 7/120\n",
      "817/817 [==============================] - 412s 505ms/step - loss: 0.1706 - auroc: 0.9813 - accuracy: 0.9372 - precision: 0.9372 - recall: 0.9372 - val_loss: 0.3219 - val_auroc: 0.9521 - val_accuracy: 0.9047 - val_precision: 0.9047 - val_recall: 0.9047\n",
      "\n",
      "Epoch 00007: saving model to models/ResNet101-NoPretraining-22-09-2021_22-38-20\\latest-ResNet101-NoPretraining-22-09-2021_22-38-20.hdf5\n",
      "\n",
      "Epoch 00007: val_auroc did not improve from 0.83781\n",
      "Epoch 8/120\n",
      "817/817 [==============================] - 412s 505ms/step - loss: 0.1630 - auroc: 0.9823 - accuracy: 0.9411 - precision: 0.9411 - recall: 0.9411 - val_loss: 0.1696 - val_auroc: 0.9824 - val_accuracy: 0.9381 - val_precision: 0.9381 - val_recall: 0.9381\n",
      "\n",
      "Epoch 00008: saving model to models/ResNet101-NoPretraining-22-09-2021_22-38-20\\latest-ResNet101-NoPretraining-22-09-2021_22-38-20.hdf5\n",
      "\n",
      "Epoch 00008: val_auroc did not improve from 0.83781\n",
      "Epoch 9/120\n",
      "817/817 [==============================] - 413s 505ms/step - loss: 0.1498 - auroc: 0.9851 - accuracy: 0.9466 - precision: 0.9466 - recall: 0.9466 - val_loss: 0.3019 - val_auroc: 0.9560 - val_accuracy: 0.8842 - val_precision: 0.8842 - val_recall: 0.8842\n",
      "\n",
      "Epoch 00009: saving model to models/ResNet101-NoPretraining-22-09-2021_22-38-20\\latest-ResNet101-NoPretraining-22-09-2021_22-38-20.hdf5\n",
      "\n",
      "Epoch 00009: val_auroc did not improve from 0.83781\n",
      "Epoch 10/120\n",
      "817/817 [==============================] - 413s 505ms/step - loss: 0.1359 - auroc: 0.9873 - accuracy: 0.9549 - precision: 0.9549 - recall: 0.9549 - val_loss: 0.1636 - val_auroc: 0.9822 - val_accuracy: 0.9507 - val_precision: 0.9507 - val_recall: 0.9507\n",
      "\n",
      "Epoch 00010: saving model to models/ResNet101-NoPretraining-22-09-2021_22-38-20\\latest-ResNet101-NoPretraining-22-09-2021_22-38-20.hdf5\n",
      "\n",
      "Epoch 00010: val_auroc did not improve from 0.83781\n",
      "Epoch 11/120\n",
      "817/817 [==============================] - 413s 505ms/step - loss: 0.1197 - auroc: 0.9904 - accuracy: 0.9538 - precision: 0.9538 - recall: 0.9538 - val_loss: 0.4117 - val_auroc: 0.9371 - val_accuracy: 0.8686 - val_precision: 0.8686 - val_recall: 0.8686\n",
      "\n",
      "Epoch 00011: saving model to models/ResNet101-NoPretraining-22-09-2021_22-38-20\\latest-ResNet101-NoPretraining-22-09-2021_22-38-20.hdf5\n",
      "\n",
      "Epoch 00011: val_auroc did not improve from 0.83781\n",
      "\n",
      "Epoch 00011: ReduceLROnPlateau reducing learning rate to 0.010000000149011612.\n",
      "Epoch 12/120\n",
      "817/817 [==============================] - 413s 505ms/step - loss: 0.1193 - auroc: 0.9904 - accuracy: 0.9576 - precision: 0.9576 - recall: 0.9576 - val_loss: 0.1037 - val_auroc: 0.9926 - val_accuracy: 0.9608 - val_precision: 0.9608 - val_recall: 0.9608\n",
      "\n",
      "Epoch 00012: saving model to models/ResNet101-NoPretraining-22-09-2021_22-38-20\\latest-ResNet101-NoPretraining-22-09-2021_22-38-20.hdf5\n",
      "\n",
      "Epoch 00012: val_auroc did not improve from 0.83781\n",
      "Epoch 13/120\n",
      "817/817 [==============================] - 413s 506ms/step - loss: 0.0672 - auroc: 0.9971 - accuracy: 0.9762 - precision: 0.9762 - recall: 0.9762 - val_loss: 0.0959 - val_auroc: 0.9933 - val_accuracy: 0.9651 - val_precision: 0.9651 - val_recall: 0.9651\n",
      "\n",
      "Epoch 00013: saving model to models/ResNet101-NoPretraining-22-09-2021_22-38-20\\latest-ResNet101-NoPretraining-22-09-2021_22-38-20.hdf5\n",
      "\n",
      "Epoch 00013: val_auroc did not improve from 0.83781\n",
      "Epoch 14/120\n",
      "817/817 [==============================] - 413s 505ms/step - loss: 0.0559 - auroc: 0.9981 - accuracy: 0.9805 - precision: 0.9805 - recall: 0.9805 - val_loss: 0.0880 - val_auroc: 0.9941 - val_accuracy: 0.9685 - val_precision: 0.9685 - val_recall: 0.9685\n",
      "\n",
      "Epoch 00014: saving model to models/ResNet101-NoPretraining-22-09-2021_22-38-20\\latest-ResNet101-NoPretraining-22-09-2021_22-38-20.hdf5\n",
      "\n",
      "Epoch 00014: val_auroc did not improve from 0.83781\n",
      "Epoch 15/120\n",
      "817/817 [==============================] - 413s 506ms/step - loss: 0.0507 - auroc: 0.9983 - accuracy: 0.9819 - precision: 0.9819 - recall: 0.9819 - val_loss: 0.0903 - val_auroc: 0.9937 - val_accuracy: 0.9685 - val_precision: 0.9685 - val_recall: 0.9685\n",
      "\n",
      "Epoch 00015: saving model to models/ResNet101-NoPretraining-22-09-2021_22-38-20\\latest-ResNet101-NoPretraining-22-09-2021_22-38-20.hdf5\n",
      "\n",
      "Epoch 00015: val_auroc did not improve from 0.83781\n",
      "Epoch 16/120\n",
      "817/817 [==============================] - 413s 505ms/step - loss: 0.0504 - auroc: 0.9984 - accuracy: 0.9821 - precision: 0.9821 - recall: 0.9821 - val_loss: 0.0857 - val_auroc: 0.9943 - val_accuracy: 0.9703 - val_precision: 0.9703 - val_recall: 0.9703\n",
      "\n",
      "Epoch 00016: saving model to models/ResNet101-NoPretraining-22-09-2021_22-38-20\\latest-ResNet101-NoPretraining-22-09-2021_22-38-20.hdf5\n",
      "\n",
      "Epoch 00016: val_auroc did not improve from 0.83781\n"
     ]
    },
    {
     "data": {
      "text/plain": [
       "<tensorflow.python.keras.callbacks.History at 0x2aab5fcaf40>"
      ]
     },
     "execution_count": 4,
     "metadata": {},
     "output_type": "execute_result"
    }
   ],
   "source": [
    "# Adapt Constants\n",
    "date = time.strftime(\"%d-%m-%Y_%H-%M-%S\")\n",
    "MODEL_NAME = f\"ResNet101-NoPretraining-{date}\"\n",
    "os.makedirs(f'models/{MODEL_NAME}', exist_ok = True) \n",
    "INPUT_SHAPE = (299, 299, 3)\n",
    "NUM_CLASSES = 2\n",
    "INITIAL_EPOCH = 0\n",
    "NUM_EPOCHS = 120\n",
    "OPTIMIZER = optimizers.SGD(learning_rate=0.1, momentum=0.9, nesterov=False)\n",
    "BATCH_SIZE = 16\n",
    "\n",
    "LRS = ReduceLROnPlateau(monitor='val_auroc', factor=0.1, patience=10, verbose=1, mode='auto', min_delta=0.0001)\n",
    "ES = EarlyStopping(monitor='val_auroc', min_delta=0.0001, patience=15, verbose=0, mode='auto', baseline=None, restore_best_weights=False)\n",
    "\n",
    "\n",
    "MC = ModelCheckpoint(f'models/{MODEL_NAME}/latest-{MODEL_NAME}.hdf5', monitor='val_auroc', verbose=1, save_best_only=False, save_weights_only=False, mode='auto', save_freq=\"epoch\")\n",
    "MC_BEST = ModelCheckpoint(f'models/{MODEL_NAME}/best-{MODEL_NAME}.hdf5', monitor='val_auroc', verbose=1, save_best_only=True, save_weights_only=False, mode='auto', save_freq=\"epoch\")\n",
    "LOG = CSVLogger(f'models/{MODEL_NAME}/{MODEL_NAME}.log')\n",
    "TB = TensorBoard(log_dir=f'models/{MODEL_NAME}/logs')\n",
    "\n",
    "METRICS = [metrics.AUC(name='auroc', curve='ROC'),\n",
    "           metrics.CategoricalAccuracy(name='accuracy'),\n",
    "           metrics.Precision(name='precision'),\n",
    "           metrics.Recall(name='recall')\n",
    "           ]\n",
    "\n",
    "# Load data\n",
    "assert(backend.image_data_format()=='channels_last')\n",
    "\n",
    "# Model: preprocess, base model, top layer/classifier\n",
    "i = Input(shape=INPUT_SHAPE)\n",
    "x = applications.resnet.preprocess_input(i)\n",
    "\n",
    "\n",
    "base_model = applications.resnet.ResNet101(include_top=False, weights=None, input_shape=INPUT_SHAPE)\n",
    "x = base_model(x)\n",
    "\n",
    "x = GlobalAveragePooling2D(name='avg_pool')(x)\n",
    "o = Dense(NUM_CLASSES, activation='softmax', name=f'fc{NUM_CLASSES}')(x)\n",
    "\n",
    "model = models.Model(inputs=i, outputs=o)\n",
    "\n",
    "# Train Model\n",
    "if INITIAL_EPOCH != 0:\n",
    "\tmodel = models.load_model(f'models/{MODEL_NAME}/latest-{MODEL_NAME}.hdf5', compile=True)\n",
    "else:\n",
    "  model.compile(optimizer=OPTIMIZER, loss='categorical_crossentropy', metrics=METRICS)\n",
    "\n",
    "model.fit(x=x_train, y=y_train, batch_size=BATCH_SIZE, validation_split = 0.2, callbacks = [MC, MC_BEST, LRS, ES, LOG, TB], epochs = NUM_EPOCHS, initial_epoch = INITIAL_EPOCH)"
   ]
  },
  {
   "cell_type": "code",
   "execution_count": 5,
   "metadata": {},
   "outputs": [
    {
     "name": "stdout",
     "output_type": "stream",
     "text": [
      "173/173 [==============================] - 26s 143ms/step - loss: 0.0995 - auroc: 0.9934 - accuracy: 0.9653 - precision: 0.9653 - recall: 0.9653\n",
      "wrote \"ResNet101-NoPretraining-22-09-2021_22-38-20 test_loss: 0.09948118776082993, test_auroc: 0.9933502674102783, test_acc: 0.9652551412582397, test_prec: 0.9652551412582397, test_rec: 0.9652551412582397, test_f1: 0.9652551412582397\n",
      "\" to results.txt \n"
     ]
    }
   ],
   "source": [
    "# Eval Model\n",
    "x_test = np.load(\"x_test.npy\")\n",
    "y_test = np.load(\"y_test.npy\")\n",
    "\n",
    "model = models.load_model(f'models/{MODEL_NAME}/latest-{MODEL_NAME}.hdf5', compile=True)\n",
    "out = model.evaluate(x=x_test, y=y_test, batch_size=BATCH_SIZE, verbose=1)\n",
    "\n",
    "# Save Results\n",
    "with open(\"results.txt\",\"a+\") as f:\n",
    "  f.write(f\"{MODEL_NAME} test_loss: {out[0]}, test_auroc: {out[1]}, test_acc: {out[2]}, test_prec: {out[3]}, test_rec: {out[4]}, test_f1: {2* ((out[3]*out[4]) / (out[3]+out[4]))}\\n\")\n",
    "print(f\"wrote \\\"{MODEL_NAME} test_loss: {out[0]}, test_auroc: {out[1]}, test_acc: {out[2]}, test_prec: {out[3]}, test_rec: {out[4]}, test_f1: {2* ((out[3]*out[4]) / (out[3]+out[4]))}\\n\\\" to results.txt \")"
   ]
  },
  {
   "cell_type": "code",
   "execution_count": 6,
   "metadata": {
    "id": "5likFaHpF8iY"
   },
   "outputs": [
    {
     "data": {
      "image/png": "[encoded data removed]",
      "text/plain": [
       "<Figure size 432x288 with 1 Axes>"
      ]
     },
     "metadata": {
      "needs_background": "light"
     },
     "output_type": "display_data"
    }
   ],
   "source": [
    "#Plot ROC\n",
    "from sklearn.metrics import roc_curve, auc\n",
    "import matplotlib.pyplot as plt\n",
    "y_pred = np.argmax(model.predict(x_test), axis=1)\n",
    "y_true = np.argmax(y_test, axis=1)\n",
    "fpr, tpr, thresholds = roc_curve(y_true, y_pred)\n",
    "auc = auc(fpr, tpr)\n",
    "\n",
    "plt.figure()\n",
    "plt.plot([0, 1], [0, 1], 'k--')\n",
    "plt.plot(fpr, tpr, label='Keras-EfficientNetB3 (area = {:.3f})'.format(auc))\n",
    "#plt.xlabel('False positive rate')\n",
    "#plt.ylabel('True positive rate')\n",
    "plt.title('ROC curve')\n",
    "plt.legend(loc='best')\n",
    "plt.show()"
   ]
  },
  {
   "cell_type": "code",
   "execution_count": null,
   "metadata": {},
   "outputs": [],
   "source": []
  }
 ],
 "metadata": {
  "accelerator": "GPU",
  "colab": {
   "collapsed_sections": [],
   "name": "DenseNet-Pretrained.ipynb",
   "provenance": []
  },
  "kernelspec": {
   "display_name": "Python 3",
   "language": "python",
   "name": "python3"
  },
  "language_info": {
   "codemirror_mode": {
    "name": "ipython",
    "version": 3
   },
   "file_extension": ".py",
   "mimetype": "text/x-python",
   "name": "python",
   "nbconvert_exporter": "python",
   "pygments_lexer": "ipython3",
   "version": "3.8.8"
  }
 },
 "nbformat": 4,
 "nbformat_minor": 4
}

{
 "cells": [
  {
   "cell_type": "code",
   "execution_count": null,
   "metadata": {
    "colab": {
     "base_uri": "https://localhost:8080/"
    },
    "executionInfo": {
     "elapsed": 31427,
     "status": "ok",
     "timestamp": 1632662941592,
     "user": {
      "displayName": "Marvin Schmitt",
      "photoUrl": "https://lh3.googleusercontent.com/a/default-user=s64",
      "userId": "08441018833103684368"
     },
     "user_tz": -120
    },
    "id": "ckl7AGWJVIIQ",
    "outputId": "a45515a4-b727-4ce9-e7a0-8be40033f64a"
   },
   "outputs": [],
   "source": [
    "from google.colab import drive\n",
    "from google.colab import files \n",
    "\n",
    "\n",
    "drive.mount(\"/content/gdrive\")\n",
    "print(os.getcwd())\n",
    "os.chdir(\"/content/gdrive/My Drive/AML2021/AML2021\")\n",
    "print(os.getcwd())"
   ]
  },
  {
   "cell_type": "code",
   "execution_count": 1,
   "metadata": {
    "executionInfo": {
     "elapsed": 2806,
     "status": "ok",
     "timestamp": 1632662910171,
     "user": {
      "displayName": "Marvin Schmitt",
      "photoUrl": "https://lh3.googleusercontent.com/a/default-user=s64",
      "userId": "08441018833103684368"
     },
     "user_tz": -120
    },
    "id": "bx-RnsY-zwe1"
   },
   "outputs": [],
   "source": [
    "import matplotlib.pyplot as plt\n",
    "import numpy as np\n",
    "import time\n",
    "import os\n",
    "\n",
    "import tensorflow as tf\n",
    "\n",
    "from tensorflow.keras import backend, optimizers, models, applications, metrics\n",
    "from tensorflow.keras.layers import GlobalAveragePooling2D, Dense, Input\n",
    "from tensorflow.keras.callbacks import ModelCheckpoint, ReduceLROnPlateau, EarlyStopping, CSVLogger, TensorBoard\n",
    "import tensorflow.keras.utils as utils\n",
    "from tensorflow import keras"
   ]
  },
  {
   "cell_type": "code",
   "execution_count": 2,
   "metadata": {
    "colab": {
     "base_uri": "https://localhost:8080/"
    },
    "executionInfo": {
     "elapsed": 189,
     "status": "ok",
     "timestamp": 1632662943081,
     "user": {
      "displayName": "Marvin Schmitt",
      "photoUrl": "https://lh3.googleusercontent.com/a/default-user=s64",
      "userId": "08441018833103684368"
     },
     "user_tz": -120
    },
    "id": "nkhOpwlGKsgD",
    "outputId": "6bf30939-acc5-405a-c359-2cae695bd0c2"
   },
   "outputs": [
    {
     "data": {
      "text/plain": [
       "[PhysicalDevice(name='/physical_device:GPU:0', device_type='GPU')]"
      ]
     },
     "execution_count": 2,
     "metadata": {},
     "output_type": "execute_result"
    }
   ],
   "source": [
    "tf.config.list_physical_devices('GPU') "
   ]
  },
  {
   "cell_type": "code",
   "execution_count": 3,
   "metadata": {
    "colab": {
     "base_uri": "https://localhost:8080/"
    },
    "executionInfo": {
     "elapsed": 647,
     "status": "ok",
     "timestamp": 1632662989320,
     "user": {
      "displayName": "Marvin Schmitt",
      "photoUrl": "https://lh3.googleusercontent.com/a/default-user=s64",
      "userId": "08441018833103684368"
     },
     "user_tz": -120
    },
    "id": "gwJlnvM7N3yW",
    "outputId": "88ef0e4c-07b1-45e1-de75-7ff80ee3672f"
   },
   "outputs": [
    {
     "name": "stdout",
     "output_type": "stream",
     "text": [
      "WARNING:tensorflow:No training configuration found in the save file, so the model was *not* compiled. Compile it manually.\n"
     ]
    }
   ],
   "source": [
    "generator = keras.models.load_model('models/GAN/best-Generator.hdf5')\n",
    "generator.compile()"
   ]
  },
  {
   "cell_type": "code",
   "execution_count": 4,
   "metadata": {
    "colab": {
     "base_uri": "https://localhost:8080/"
    },
    "id": "-Y81Fa8KeSTH",
    "outputId": "da050aab-54bc-4736-ef24-a67704bbca55"
   },
   "outputs": [],
   "source": [
    "# Adapt Constants\n",
    "date = time.strftime(\"%d-%m-%Y_%H-%M-%S\")\n",
    "MODEL_NAME = f\"Synthetic-cGAN-EfficientNet-{date}\"\n",
    "os.makedirs(f'models/{MODEL_NAME}', exist_ok = True) \n",
    "INPUT_SHAPE = (299, 299, 3)\n",
    "NUM_CLASSES = 2\n",
    "INITIAL_EPOCH = 0\n",
    "NUM_EPOCHS = 1000\n",
    "OPTIMIZER = optimizers.SGD(learning_rate=0.1, momentum=0.9, nesterov=False)\n",
    "BATCH_SIZE = 16\n",
    "\n",
    "class DataGeneratorGAN(tf.keras.utils.Sequence):\n",
    "    def __init__(self, generator, batch_size=16):\n",
    "      self.batch_size = batch_size\n",
    "      self.generator = generator\n",
    "\n",
    "    def __len__(self):\n",
    "      return 100000\n",
    "\n",
    "    def __getitem__(self, index):\n",
    "      z = tf.random.normal(shape=(self.batch_size, 100))  # 100 latent dims in the GAN\n",
    "      y = tf.one_hot(\n",
    "          tf.random.uniform(shape=(self.batch_size, ), \n",
    "                            minval=0, \n",
    "                            maxval=2, \n",
    "                            dtype=tf.int32),\n",
    "                     depth=2, dtype=tf.int32)\n",
    "      X = self.generator([z, y])\n",
    "      return X, y\n",
    "\n",
    "    def on_epoch_end(self):\n",
    "        pass\n",
    "\n",
    "data_generator = DataGeneratorGAN(generator=generator, batch_size=BATCH_SIZE)\n",
    "\n",
    "LRS = ReduceLROnPlateau(monitor='val_auroc', factor=0.1, patience=10, verbose=1, mode='auto', min_delta=0.0001)\n",
    "ES = EarlyStopping(monitor='val_auroc', min_delta=0.0001, patience=15, verbose=0, mode='auto', baseline=None, restore_best_weights=False)\n",
    "\n",
    "\n",
    "MC = ModelCheckpoint(f'models/{MODEL_NAME}/latest-{MODEL_NAME}.hdf5', monitor='val_auroc', verbose=1, save_best_only=False, save_weights_only=False, mode='auto', save_freq=\"epoch\")\n",
    "MC_BEST = ModelCheckpoint(f'models/{MODEL_NAME}/best-{MODEL_NAME}.hdf5', monitor='val_auroc', verbose=1, save_best_only=True, save_weights_only=False, mode='auto', save_freq=\"epoch\")\n",
    "LOG = CSVLogger(f'models/{MODEL_NAME}/{MODEL_NAME}.log')\n",
    "TB = TensorBoard(log_dir=f'models/{MODEL_NAME}/logs')\n",
    "\n",
    "METRICS = [metrics.AUC(name='auroc', curve='ROC'),\n",
    "           metrics.CategoricalAccuracy(name='accuracy'),\n",
    "           metrics.Precision(name='precision'),\n",
    "           metrics.Recall(name='recall')\n",
    "           ]\n",
    "\n",
    "# Load data\n",
    "assert(backend.image_data_format()=='channels_last')\n",
    "\n",
    "# Model: preprocess, base model, top layer/classifier\n",
    "i = Input(shape=INPUT_SHAPE)\n",
    "x = applications.efficientnet.preprocess_input(i)\n",
    "\n",
    "\n",
    "base_model = applications.efficientnet.EfficientNetB3(include_top=False, weights=\"imagenet\", input_shape=INPUT_SHAPE)\n",
    "x = base_model(x)\n",
    "\n",
    "x = GlobalAveragePooling2D(name='avg_pool')(x)\n",
    "o = Dense(NUM_CLASSES, activation='softmax', name=f'fc{NUM_CLASSES}')(x)\n",
    "\n",
    "model = models.Model(inputs=i, outputs=o)\n",
    "\n",
    "# Train Model\n",
    "if INITIAL_EPOCH != 0:\n",
    "\tmodel = models.load_model(f'models/{MODEL_NAME}/latest-{MODEL_NAME}.hdf5', compile=True)\n",
    "else:\n",
    "  model.compile(optimizer=OPTIMIZER, loss='categorical_crossentropy', metrics=METRICS)\n",
    "\n"
   ]
  },
  {
   "cell_type": "code",
   "execution_count": null,
   "metadata": {},
   "outputs": [],
   "source": [
    "model.fit(\n",
    "    data_generator,\n",
    "    steps_per_epoch = 100,\n",
    "    callbacks = [MC, MC_BEST, LRS, LOG, TB], \n",
    "    validation_data = data_generator, \n",
    "    validation_steps = 10,\n",
    "    epochs = NUM_EPOCHS\n",
    "    )"
   ]
  },
  {
   "cell_type": "code",
   "execution_count": 6,
   "metadata": {
    "id": "GKMyIIELKsgG",
    "outputId": "48eaf964-059a-4c8f-f63c-b38b02608789"
   },
   "outputs": [
    {
     "name": "stdout",
     "output_type": "stream",
     "text": [
      "173/173 [==============================] - 28s 123ms/step - loss: 0.7505 - auroc: 0.1967 - accuracy: 0.2617 - precision: 0.2617 - recall: 0.2617\n",
      "wrote \"Synthetic-cGAN-EfficientNet-30-09-2021_11-16-27 test_loss: 0.7505400776863098, test_auroc: 0.19665676355361938, test_acc: 0.26167210936546326, test_prec: 0.26167210936546326, test_rec: 0.26167210936546326, test_f1: 0.26167210936546326\n",
      "\" to results.txt \n"
     ]
    }
   ],
   "source": [
    "# Eval Model\n",
    "x_test = np.load(\"x_test.npy\")\n",
    "y_test = np.load(\"y_test.npy\")\n",
    "\n",
    "model = models.load_model(f'models/Synthetic-cGAN-EfficientNet-26-09-2021_15-42-21/latest-Synthetic-cGAN-EfficientNet-26-09-2021_15-42-21.hdf5', compile=True)\n",
    "out = model.evaluate(x=x_test, y=y_test, batch_size=BATCH_SIZE, verbose=1)\n",
    "\n",
    "# Save Results\n",
    "with open(\"results.txt\",\"a+\") as f:\n",
    "  f.write(f\"{MODEL_NAME} test_loss: {out[0]}, test_auroc: {out[1]}, test_acc: {out[2]}, test_prec: {out[3]}, test_rec: {out[4]}, test_f1: {2* ((out[3]*out[4]) / (out[3]+out[4]))}\\n\")\n",
    "print(f\"wrote \\\"{MODEL_NAME} test_loss: {out[0]}, test_auroc: {out[1]}, test_acc: {out[2]}, test_prec: {out[3]}, test_rec: {out[4]}, test_f1: {2* ((out[3]*out[4]) / (out[3]+out[4]))}\\n\\\" to results.txt \")"
   ]
  },
  {
   "cell_type": "code",
   "execution_count": 10,
   "metadata": {
    "id": "5likFaHpF8iY"
   },
   "outputs": [
    {
     "data": {
      "image/png": "[encoded data removed]",
      "text/plain": [
       "<Figure size 432x288 with 1 Axes>"
      ]
     },
     "metadata": {
      "needs_background": "light"
     },
     "output_type": "display_data"
    }
   ],
   "source": [
    "#Plot ROC\n",
    "from sklearn.metrics import roc_curve, auc\n",
    "import matplotlib.pyplot as plt\n",
    "y_pred = np.argmax(model.predict(x_test), axis=1)\n",
    "y_true = np.argmax(y_test, axis=1)\n",
    "fpr, tpr, thresholds = roc_curve(y_true, y_pred)\n",
    "auc = auc(fpr, tpr)\n",
    "\n",
    "plt.figure()\n",
    "plt.plot([0, 1], [0, 1], 'k--')\n",
    "plt.plot(fpr, tpr, label='EfficientNet-B3 synth (area = {:.3f})'.format(auc))\n",
    "#plt.xlabel('False positive rate')\n",
    "#plt.ylabel('True positive rate')\n",
    "plt.title('ROC curve')\n",
    "plt.legend(loc='best')\n",
    "plt.savefig(\"cGAN-synthetic.png\")\n",
    "plt.show()"
   ]
  },
  {
   "cell_type": "code",
   "execution_count": null,
   "metadata": {
    "id": "rugaLpKOKsgH"
   },
   "outputs": [],
   "source": []
  }
 ],
 "metadata": {
  "accelerator": "GPU",
  "colab": {
   "collapsed_sections": [],
   "name": "cGAN-synthetic-classifier.ipynb",
   "provenance": []
  },
  "kernelspec": {
   "display_name": "Python 3",
   "language": "python",
   "name": "python3"
  },
  "language_info": {
   "codemirror_mode": {
    "name": "ipython",
    "version": 3
   },
   "file_extension": ".py",
   "mimetype": "text/x-python",
   "name": "python",
   "nbconvert_exporter": "python",
   "pygments_lexer": "ipython3",
   "version": "3.8.8"
  }
 },
 "nbformat": 4,
 "nbformat_minor": 4
}
